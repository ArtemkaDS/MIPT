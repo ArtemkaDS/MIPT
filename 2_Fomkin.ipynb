{
 "cells": [
  {
   "cell_type": "code",
   "execution_count": 71,
   "metadata": {
    "ExecuteTime": {
     "end_time": "2022-10-21T09:49:09.814920Z",
     "start_time": "2022-10-21T09:49:09.687945Z"
    },
    "id": "NGI3dREkJpUr",
    "outputId": "557b2e96-90cd-4502-d42c-2ab91fd8b683"
   },
   "outputs": [
    {
     "name": "stderr",
     "output_type": "stream",
     "text": [
      "C:\\Users\\Fomkin.AG\\Anaconda3\\lib\\site-packages\\seaborn\\distributions.py:2619: FutureWarning: `distplot` is a deprecated function and will be removed in a future version. Please adapt your code to use either `displot` (a figure-level function with similar flexibility) or `kdeplot` (an axes-level function for kernel density plots).\n",
      "  warnings.warn(msg, FutureWarning)\n"
     ]
    },
    {
     "data": {
      "image/png": "[encoded data removed]",
      "text/plain": [
       "<Figure size 432x288 with 1 Axes>"
      ]
     },
     "metadata": {
      "needs_background": "light"
     },
     "output_type": "display_data"
    }
   ],
   "source": [
    "from numpy import random\n",
    "import numpy as np\n",
    "import pandas as pd\n",
    "import matplotlib.pyplot as plt\n",
    "import seaborn as sns\n",
    "\n",
    "random_array = random.normal(size=1000)\n",
    "sns.distplot(random_array, hist=False)\n",
    "\n",
    "plt.show() "
   ]
  },
  {
   "cell_type": "code",
   "execution_count": 72,
   "metadata": {
    "ExecuteTime": {
     "end_time": "2022-10-21T09:49:09.860953Z",
     "start_time": "2022-10-21T09:49:09.846921Z"
    },
    "id": "dpJBI7gNJpU4"
   },
   "outputs": [],
   "source": [
    "series = pd.Series(random_array)"
   ]
  },
  {
   "cell_type": "markdown",
   "metadata": {
    "id": "rAkZDYLMJpU5"
   },
   "source": [
    "Перед вами нормально-распределенный массив сконвертированный в Pandas Series. Необходимо расчитать следующие статистики для массива (series), используя только собственно-написанные формулы:\n",
    "* среднее значение \n",
    "* медиану \n",
    "* стандартное отклонение\n",
    "* межквартильный размах\n",
    "* 23-й перцентиль\n"
   ]
  },
  {
   "cell_type": "code",
   "execution_count": 73,
   "metadata": {
    "ExecuteTime": {
     "end_time": "2022-10-21T09:49:10.194949Z",
     "start_time": "2022-10-21T09:49:10.182922Z"
    },
    "id": "n0kAJgsvJpU9",
    "outputId": "1ca37ec0-f0c6-41f3-d6c9-8bf39413dcbe"
   },
   "outputs": [
    {
     "data": {
      "text/plain": [
       "0      1.356765\n",
       "1     -1.408824\n",
       "2     -0.665881\n",
       "3     -0.122841\n",
       "4     -1.236605\n",
       "         ...   \n",
       "995   -0.756953\n",
       "996    1.250512\n",
       "997    0.743230\n",
       "998   -0.816514\n",
       "999    1.377596\n",
       "Length: 1000, dtype: float64"
      ]
     },
     "execution_count": 73,
     "metadata": {},
     "output_type": "execute_result"
    }
   ],
   "source": [
    "series"
   ]
  },
  {
   "cell_type": "markdown",
   "metadata": {},
   "source": [
    "# Среднее значение"
   ]
  },
  {
   "cell_type": "code",
   "execution_count": 74,
   "metadata": {
    "ExecuteTime": {
     "end_time": "2022-10-21T09:49:10.780922Z",
     "start_time": "2022-10-21T09:49:10.766942Z"
    },
    "id": "mfPJQg1rJpU-"
   },
   "outputs": [
    {
     "data": {
      "text/plain": [
       "0.08821914759707238"
      ]
     },
     "execution_count": 74,
     "metadata": {},
     "output_type": "execute_result"
    }
   ],
   "source": [
    "my_mean = sum(series) / len(series)\n",
    "my_mean"
   ]
  },
  {
   "cell_type": "code",
   "execution_count": 75,
   "metadata": {
    "ExecuteTime": {
     "end_time": "2022-10-21T09:49:11.002954Z",
     "start_time": "2022-10-21T09:49:10.990952Z"
    }
   },
   "outputs": [
    {
     "name": "stdout",
     "output_type": "stream",
     "text": [
      "Вычисления верны\n"
     ]
    }
   ],
   "source": [
    "# check\n",
    "if my_mean == series.mean():\n",
    "    print('Вычисления верны')\n",
    "else:\n",
    "    print('Где-то ошибка')"
   ]
  },
  {
   "cell_type": "markdown",
   "metadata": {},
   "source": [
    "# Медиана"
   ]
  },
  {
   "cell_type": "code",
   "execution_count": 76,
   "metadata": {
    "ExecuteTime": {
     "end_time": "2022-10-21T09:49:11.430950Z",
     "start_time": "2022-10-21T09:49:11.422952Z"
    }
   },
   "outputs": [
    {
     "data": {
      "text/plain": [
       "0.09524249460011783"
      ]
     },
     "execution_count": 76,
     "metadata": {},
     "output_type": "execute_result"
    }
   ],
   "source": [
    "ind = len(series) // 2\n",
    "serlist = sorted(series)\n",
    "if len(serlist) % 2 != 0:\n",
    "    my_median = serlist[ind]\n",
    "else:\n",
    "    my_median = (serlist[ind] + serlist[ind - 1]) / 2\n",
    "my_median"
   ]
  },
  {
   "cell_type": "code",
   "execution_count": 77,
   "metadata": {
    "ExecuteTime": {
     "end_time": "2022-10-21T09:49:11.680948Z",
     "start_time": "2022-10-21T09:49:11.670944Z"
    }
   },
   "outputs": [
    {
     "name": "stdout",
     "output_type": "stream",
     "text": [
      "Вычисления верны\n"
     ]
    }
   ],
   "source": [
    "# check\n",
    "if my_median == series.median():\n",
    "    print('Вычисления верны')\n",
    "else:\n",
    "    print('Где-то ошибка')"
   ]
  },
  {
   "cell_type": "markdown",
   "metadata": {},
   "source": [
    "# Стандартное отклонение"
   ]
  },
  {
   "cell_type": "markdown",
   "metadata": {},
   "source": [
    "Дисперсия(`var`) - разница квадрата суммы с каждым элемента со средним<br>\n",
    "Ст.откл.(`std`) - квадратный корень из `var`\n",
    "<br><br>\n",
    "Найдем стандатное отклонение двумя способами: *сразу в пандасе* и *на чистом питоне*."
   ]
  },
  {
   "cell_type": "code",
   "execution_count": 78,
   "metadata": {
    "ExecuteTime": {
     "end_time": "2022-10-21T09:49:12.714920Z",
     "start_time": "2022-10-21T09:49:12.670935Z"
    }
   },
   "outputs": [
    {
     "data": {
      "text/plain": [
       "0.9959510110434576"
      ]
     },
     "execution_count": 78,
     "metadata": {},
     "output_type": "execute_result"
    }
   ],
   "source": [
    "my_var_pandas = (sum(series.apply(lambda x: (x - series.mean())**2)) / len(series))**0.5\n",
    "my_var_pandas"
   ]
  },
  {
   "cell_type": "code",
   "execution_count": 79,
   "metadata": {
    "ExecuteTime": {
     "end_time": "2022-10-21T09:49:13.232922Z",
     "start_time": "2022-10-21T09:49:13.222923Z"
    }
   },
   "outputs": [
    {
     "name": "stdout",
     "output_type": "stream",
     "text": [
      "Вычисления верны\n"
     ]
    }
   ],
   "source": [
    "if my_var_pandas == np.std(series):\n",
    "    print('Вычисления верны')\n",
    "else:\n",
    "    print('Где-то ошибка')"
   ]
  },
  {
   "cell_type": "code",
   "execution_count": 81,
   "metadata": {
    "ExecuteTime": {
     "end_time": "2022-10-21T09:49:22.239951Z",
     "start_time": "2022-10-21T09:49:22.199919Z"
    }
   },
   "outputs": [
    {
     "data": {
      "text/plain": [
       "0.9959510110434576"
      ]
     },
     "execution_count": 81,
     "metadata": {},
     "output_type": "execute_result"
    }
   ],
   "source": [
    "my_var_pure_python = (sum((x-series.mean())**2 for x in serlist) / len(serlist))**0.5\n",
    "my_var_pure_python"
   ]
  },
  {
   "cell_type": "code",
   "execution_count": 82,
   "metadata": {
    "ExecuteTime": {
     "end_time": "2022-10-21T09:49:23.061919Z",
     "start_time": "2022-10-21T09:49:23.047920Z"
    }
   },
   "outputs": [
    {
     "name": "stdout",
     "output_type": "stream",
     "text": [
      "Вычисления верны\n"
     ]
    }
   ],
   "source": [
    "if my_var_pure_python == np.std(series):\n",
    "    print('Вычисления верны')\n",
    "else:\n",
    "    print('Где-то ошибка')"
   ]
  },
  {
   "cell_type": "markdown",
   "metadata": {},
   "source": [
    "# Межквартильный размах"
   ]
  },
  {
   "cell_type": "code",
   "execution_count": 83,
   "metadata": {
    "ExecuteTime": {
     "end_time": "2022-10-21T09:49:25.949957Z",
     "start_time": "2022-10-21T09:49:25.934920Z"
    }
   },
   "outputs": [
    {
     "data": {
      "text/plain": [
       "-0.5997724962196334"
      ]
     },
     "execution_count": 83,
     "metadata": {},
     "output_type": "execute_result"
    }
   ],
   "source": [
    "ind_q1 = len(series) // 4\n",
    "serlist = sorted(series)\n",
    "if len(serlist) % 4 != 0:\n",
    "    my_q1 = serlist[ind_q1]\n",
    "else:\n",
    "    my_q1 = (serlist[ind_q1] + serlist[ind_q1 - 1]) / 2\n",
    "my_q1"
   ]
  },
  {
   "cell_type": "code",
   "execution_count": 84,
   "metadata": {
    "ExecuteTime": {
     "end_time": "2022-10-21T09:49:26.279920Z",
     "start_time": "2022-10-21T09:49:26.270921Z"
    }
   },
   "outputs": [
    {
     "data": {
      "text/plain": [
       "-0.5997724962196334"
      ]
     },
     "execution_count": 84,
     "metadata": {},
     "output_type": "execute_result"
    }
   ],
   "source": [
    "q1 = series.quantile(0.25, interpolation='midpoint')\n",
    "q1"
   ]
  },
  {
   "cell_type": "code",
   "execution_count": 85,
   "metadata": {
    "ExecuteTime": {
     "end_time": "2022-10-21T09:49:26.645918Z",
     "start_time": "2022-10-21T09:49:26.630921Z"
    }
   },
   "outputs": [
    {
     "data": {
      "text/plain": [
       "0.7337529646951814"
      ]
     },
     "execution_count": 85,
     "metadata": {},
     "output_type": "execute_result"
    }
   ],
   "source": [
    "ind_q3 = len(series) // 4 * 3\n",
    "serlist = sorted(series)\n",
    "if len(serlist) % 4 != 0:\n",
    "    my_q3 = serlist[ind_q3]\n",
    "else:\n",
    "    my_q3 = (serlist[ind_q3] + serlist[ind_q3 - 1]) / 2\n",
    "my_q3"
   ]
  },
  {
   "cell_type": "code",
   "execution_count": 86,
   "metadata": {
    "ExecuteTime": {
     "end_time": "2022-10-21T09:49:30.565929Z",
     "start_time": "2022-10-21T09:49:30.559918Z"
    }
   },
   "outputs": [
    {
     "data": {
      "text/plain": [
       "0.7337529646951814"
      ]
     },
     "execution_count": 86,
     "metadata": {},
     "output_type": "execute_result"
    }
   ],
   "source": [
    "q3 = series.quantile(0.75, interpolation='midpoint')\n",
    "q3"
   ]
  },
  {
   "cell_type": "code",
   "execution_count": 87,
   "metadata": {
    "ExecuteTime": {
     "end_time": "2022-10-21T09:49:31.307948Z",
     "start_time": "2022-10-21T09:49:31.295918Z"
    }
   },
   "outputs": [
    {
     "data": {
      "text/plain": [
       "1.3335254609148146"
      ]
     },
     "execution_count": 87,
     "metadata": {},
     "output_type": "execute_result"
    }
   ],
   "source": [
    "my_iqr = q3 - q1\n",
    "my_iqr"
   ]
  },
  {
   "cell_type": "code",
   "execution_count": 88,
   "metadata": {
    "ExecuteTime": {
     "end_time": "2022-10-21T09:49:32.295950Z",
     "start_time": "2022-10-21T09:49:32.287918Z"
    }
   },
   "outputs": [
    {
     "data": {
      "text/plain": [
       "1.3335254609148146"
      ]
     },
     "execution_count": 88,
     "metadata": {},
     "output_type": "execute_result"
    }
   ],
   "source": [
    "q3, q1 = np.percentile(series, [75 ,25], interpolation='midpoint')\n",
    "iqr = q3 - q1\n",
    "iqr"
   ]
  },
  {
   "cell_type": "code",
   "execution_count": 89,
   "metadata": {
    "ExecuteTime": {
     "end_time": "2022-10-21T09:49:33.147920Z",
     "start_time": "2022-10-21T09:49:33.135944Z"
    }
   },
   "outputs": [
    {
     "name": "stdout",
     "output_type": "stream",
     "text": [
      "Вычисления верны\n"
     ]
    }
   ],
   "source": [
    "if my_iqr == iqr:\n",
    "    print('Вычисления верны')\n",
    "else:\n",
    "    print('Где-то ошибка')"
   ]
  },
  {
   "cell_type": "markdown",
   "metadata": {},
   "source": [
    "# 23-й перцентиль"
   ]
  },
  {
   "cell_type": "code",
   "execution_count": 90,
   "metadata": {
    "ExecuteTime": {
     "end_time": "2022-10-21T09:49:35.569919Z",
     "start_time": "2022-10-21T09:49:35.550937Z"
    }
   },
   "outputs": [
    {
     "data": {
      "text/plain": [
       "-0.6484482910596828"
      ]
     },
     "execution_count": 90,
     "metadata": {},
     "output_type": "execute_result"
    }
   ],
   "source": [
    "perc23 = np.percentile(series, 23, interpolation='midpoint')\n",
    "perc23"
   ]
  },
  {
   "cell_type": "code",
   "execution_count": 91,
   "metadata": {
    "ExecuteTime": {
     "end_time": "2022-10-21T09:49:36.186949Z",
     "start_time": "2022-10-21T09:49:36.175942Z"
    }
   },
   "outputs": [
    {
     "data": {
      "text/plain": [
       "-0.6484482910596828"
      ]
     },
     "execution_count": 91,
     "metadata": {},
     "output_type": "execute_result"
    }
   ],
   "source": [
    "ind_perc23 = round(len(series) * 0.23)\n",
    "serlist = sorted(series)\n",
    "if len(serlist) % 4 != 0:\n",
    "    my_perc23 = serlist[ind_perc23]\n",
    "else:\n",
    "    my_perc23 = (serlist[ind_perc23] + serlist[ind_perc23 - 1]) / 2\n",
    "my_perc23"
   ]
  },
  {
   "cell_type": "code",
   "execution_count": 92,
   "metadata": {
    "ExecuteTime": {
     "end_time": "2022-10-21T09:49:37.030951Z",
     "start_time": "2022-10-21T09:49:37.023942Z"
    }
   },
   "outputs": [
    {
     "name": "stdout",
     "output_type": "stream",
     "text": [
      "Вычисления верны\n"
     ]
    }
   ],
   "source": [
    "if my_perc23 == perc23:\n",
    "    print('Вычисления верны')\n",
    "else:\n",
    "    print('Где-то ошибка')"
   ]
  }
 ],
 "metadata": {
  "colab": {
   "provenance": []
  },
  "hide_input": false,
  "kernelspec": {
   "display_name": "Python 3 (ipykernel)",
   "language": "python",
   "name": "python3"
  },
  "language_info": {
   "codemirror_mode": {
    "name": "ipython",
    "version": 3
   },
   "file_extension": ".py",
   "mimetype": "text/x-python",
   "name": "python",
   "nbconvert_exporter": "python",
   "pygments_lexer": "ipython3",
   "version": "3.9.12"
  },
  "toc": {
   "base_numbering": 1,
   "nav_menu": {},
   "number_sections": true,
   "sideBar": true,
   "skip_h1_title": false,
   "title_cell": "Table of Contents",
   "title_sidebar": "Contents",
   "toc_cell": false,
   "toc_position": {},
   "toc_section_display": true,
   "toc_window_display": false
  },
  "vscode": {
   "interpreter": {
    "hash": "cad989ee3f04f94608397fd104b208868b1fb1529ce81b128844ca50bb13978f"
   }
  }
 },
 "nbformat": 4,
 "nbformat_minor": 1
}
