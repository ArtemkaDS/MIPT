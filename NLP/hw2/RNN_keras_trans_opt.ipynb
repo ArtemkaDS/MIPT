{
 "cells": [
  {
   "cell_type": "markdown",
   "id": "0c4eaa25-5477-4365-900d-06989cf2936f",
   "metadata": {},
   "source": [
    "# Import & upload"
   ]
  },
  {
   "cell_type": "code",
   "execution_count": 12,
   "id": "1788def7-fbfd-45f5-a8d1-fe078de52709",
   "metadata": {},
   "outputs": [],
   "source": [
    "from sklearn.model_selection import train_test_split\n",
    "from sklearn.metrics import accuracy_score\n",
    "from transformers import BertTokenizer, BertForSequenceClassification, AdamW, get_linear_schedule_with_warmup\n",
    "import torch\n",
    "from torch.utils.data import DataLoader, TensorDataset, random_split, RandomSampler, SequentialSampler\n",
    "import pandas as pd\n",
    "import numpy as np\n",
    "import torch.nn.functional as F"
   ]
  },
  {
   "cell_type": "code",
   "execution_count": 13,
   "id": "29b315da-e7e7-4304-ad03-3f33bc9eba26",
   "metadata": {},
   "outputs": [],
   "source": [
    "# Загрузка данных\n",
    "train_data = pd.read_csv(\"train.csv\", index_col=0).dropna()\n",
    "test_data = pd.read_csv(\"test.csv\", index_col=0).dropna().reset_index(drop=True)"
   ]
  },
  {
   "cell_type": "code",
   "execution_count": 35,
   "id": "45fb269e-e8cb-42dc-a461-b4ef4a9b8757",
   "metadata": {},
   "outputs": [
    {
     "data": {
      "text/html": [
       "<div>\n",
       "<style scoped>\n",
       "    .dataframe tbody tr th:only-of-type {\n",
       "        vertical-align: middle;\n",
       "    }\n",
       "\n",
       "    .dataframe tbody tr th {\n",
       "        vertical-align: top;\n",
       "    }\n",
       "\n",
       "    .dataframe thead th {\n",
       "        text-align: right;\n",
       "    }\n",
       "</style>\n",
       "<table border=\"1\" class=\"dataframe\">\n",
       "  <thead>\n",
       "    <tr style=\"text-align: right;\">\n",
       "      <th></th>\n",
       "      <th>id</th>\n",
       "      <th>Text</th>\n",
       "    </tr>\n",
       "  </thead>\n",
       "  <tbody>\n",
       "    <tr>\n",
       "      <th>0</th>\n",
       "      <td>787bc85b-20d4-46d8-84a0-562a2527f684</td>\n",
       "      <td>TRENDING: New Yorkers encounter empty supermar...</td>\n",
       "    </tr>\n",
       "    <tr>\n",
       "      <th>1</th>\n",
       "      <td>17e934cd-ba94-4d4f-9ac0-ead202abe241</td>\n",
       "      <td>When I couldn't find hand sanitizer at Fred Me...</td>\n",
       "    </tr>\n",
       "    <tr>\n",
       "      <th>2</th>\n",
       "      <td>5914534b-2b0f-4de8-bb8a-e25587697e0d</td>\n",
       "      <td>Find out how you can protect yourself and love...</td>\n",
       "    </tr>\n",
       "    <tr>\n",
       "      <th>3</th>\n",
       "      <td>cdf06cfe-29ae-48ee-ac6d-be448103ba45</td>\n",
       "      <td>#Panic buying hits #NewYork City as anxious sh...</td>\n",
       "    </tr>\n",
       "    <tr>\n",
       "      <th>4</th>\n",
       "      <td>aff63979-0256-4fb9-a2d9-86a3d3ca5470</td>\n",
       "      <td>#toiletpaper #dunnypaper #coronavirus #coronav...</td>\n",
       "    </tr>\n",
       "    <tr>\n",
       "      <th>...</th>\n",
       "      <td>...</td>\n",
       "      <td>...</td>\n",
       "    </tr>\n",
       "    <tr>\n",
       "      <th>3793</th>\n",
       "      <td>65712d27-5c41-4863-b74f-0bd66199b7df</td>\n",
       "      <td>Meanwhile In A Supermarket in Israel -- People...</td>\n",
       "    </tr>\n",
       "    <tr>\n",
       "      <th>3794</th>\n",
       "      <td>9fd189c5-e79c-49d7-8985-576450a4e6e3</td>\n",
       "      <td>Did you panic buy a lot of non-perishable item...</td>\n",
       "    </tr>\n",
       "    <tr>\n",
       "      <th>3795</th>\n",
       "      <td>3a06785f-6f9b-4f4d-9880-22562ad3e296</td>\n",
       "      <td>Asst Prof of Economics @cconces was on @NBCPhi...</td>\n",
       "    </tr>\n",
       "    <tr>\n",
       "      <th>3796</th>\n",
       "      <td>dd29ff09-9bc2-40f4-8201-4b6361aca760</td>\n",
       "      <td>Gov need to do somethings instead of biar je r...</td>\n",
       "    </tr>\n",
       "    <tr>\n",
       "      <th>3797</th>\n",
       "      <td>8d09ea68-a130-4f3a-8777-f821b354542d</td>\n",
       "      <td>I and @ForestandPaper members are committed to...</td>\n",
       "    </tr>\n",
       "  </tbody>\n",
       "</table>\n",
       "<p>3798 rows × 2 columns</p>\n",
       "</div>"
      ],
      "text/plain": [
       "                                        id  \\\n",
       "0     787bc85b-20d4-46d8-84a0-562a2527f684   \n",
       "1     17e934cd-ba94-4d4f-9ac0-ead202abe241   \n",
       "2     5914534b-2b0f-4de8-bb8a-e25587697e0d   \n",
       "3     cdf06cfe-29ae-48ee-ac6d-be448103ba45   \n",
       "4     aff63979-0256-4fb9-a2d9-86a3d3ca5470   \n",
       "...                                    ...   \n",
       "3793  65712d27-5c41-4863-b74f-0bd66199b7df   \n",
       "3794  9fd189c5-e79c-49d7-8985-576450a4e6e3   \n",
       "3795  3a06785f-6f9b-4f4d-9880-22562ad3e296   \n",
       "3796  dd29ff09-9bc2-40f4-8201-4b6361aca760   \n",
       "3797  8d09ea68-a130-4f3a-8777-f821b354542d   \n",
       "\n",
       "                                                   Text  \n",
       "0     TRENDING: New Yorkers encounter empty supermar...  \n",
       "1     When I couldn't find hand sanitizer at Fred Me...  \n",
       "2     Find out how you can protect yourself and love...  \n",
       "3     #Panic buying hits #NewYork City as anxious sh...  \n",
       "4     #toiletpaper #dunnypaper #coronavirus #coronav...  \n",
       "...                                                 ...  \n",
       "3793  Meanwhile In A Supermarket in Israel -- People...  \n",
       "3794  Did you panic buy a lot of non-perishable item...  \n",
       "3795  Asst Prof of Economics @cconces was on @NBCPhi...  \n",
       "3796  Gov need to do somethings instead of biar je r...  \n",
       "3797  I and @ForestandPaper members are committed to...  \n",
       "\n",
       "[3798 rows x 2 columns]"
      ]
     },
     "execution_count": 35,
     "metadata": {},
     "output_type": "execute_result"
    }
   ],
   "source": [
    "test_data1 = pd.read_csv(\"test.csv\").dropna().reset_index(drop=True)\n",
    "test_data1"
   ]
  },
  {
   "cell_type": "markdown",
   "id": "d9086ea5-4665-4477-b151-98325c92892f",
   "metadata": {},
   "source": [
    "# Preproc"
   ]
  },
  {
   "cell_type": "code",
   "execution_count": 14,
   "id": "1f1eed0a-a4ee-49f5-b264-b5acbed28690",
   "metadata": {},
   "outputs": [],
   "source": [
    "label_to_int = {'Extremely Positive': 4, 'Positive': 3, 'Neutral': 2, 'Negative': 1, 'Extremely Negative': 0}\n",
    "train_data['Sentiment'] = train_data['Sentiment'].replace(label_to_int)"
   ]
  },
  {
   "cell_type": "code",
   "execution_count": 15,
   "id": "0ff908d3-668f-4a5f-9441-b1ca02915055",
   "metadata": {},
   "outputs": [],
   "source": [
    "tokenizer = BertTokenizer.from_pretrained('bert-base-uncased')\n",
    "\n",
    "def tokenize_batch(batch):\n",
    "    return tokenizer(list(batch['Text']), padding=True, truncation=True)"
   ]
  },
  {
   "cell_type": "code",
   "execution_count": 16,
   "id": "b089a4f0-f9c0-497e-a90b-b6ba4fe39c81",
   "metadata": {},
   "outputs": [],
   "source": [
    "train_data, val_data = train_test_split(train_data, test_size=0.2)\n",
    "\n",
    "train_batch = tokenize_batch(train_data)\n",
    "val_batch = tokenize_batch(val_data)"
   ]
  },
  {
   "cell_type": "code",
   "execution_count": 18,
   "id": "7e4ba72f-1eae-42d2-89a4-465ad3b9b858",
   "metadata": {},
   "outputs": [],
   "source": [
    "batch_size = 32\n",
    "\n",
    "train_dataset = TensorDataset(\n",
    "    torch.tensor(train_batch['input_ids'], dtype=torch.long), \n",
    "    torch.tensor(train_batch['attention_mask'], dtype=torch.long), \n",
    "    torch.tensor(train_data['Sentiment'].to_numpy(), dtype=torch.long)\n",
    ")\n",
    "\n",
    "val_dataset = TensorDataset(\n",
    "    torch.tensor(val_batch['input_ids'], dtype=torch.long),\n",
    "    torch.tensor(val_batch['attention_mask'], dtype=torch.long),\n",
    "    torch.tensor(val_data['Sentiment'].to_numpy(), dtype=torch.long)\n",
    ")\n",
    "\n",
    "train_dataloader = DataLoader(train_dataset, sampler=RandomSampler(train_dataset), batch_size=batch_size)\n",
    "val_dataloader = DataLoader(val_dataset, sampler=SequentialSampler(val_dataset), batch_size=batch_size)"
   ]
  },
  {
   "cell_type": "code",
   "execution_count": 19,
   "id": "c2c80aa9-02c8-4f95-bf6b-a02b45113709",
   "metadata": {},
   "outputs": [],
   "source": [
    "# HP\n",
    "\n",
    "learning_rates = [2e-5, 3e-5]\n",
    "batch_sizes = [32, 64]"
   ]
  },
  {
   "cell_type": "markdown",
   "id": "3c2f3fe8-3f16-4896-b811-9201df076d40",
   "metadata": {},
   "source": [
    "# Model"
   ]
  },
  {
   "cell_type": "code",
   "execution_count": 21,
   "id": "c90c8599-c3c1-47ad-88d2-052752163da1",
   "metadata": {},
   "outputs": [
    {
     "name": "stderr",
     "output_type": "stream",
     "text": [
      "Some weights of BertForSequenceClassification were not initialized from the model checkpoint at bert-base-uncased and are newly initialized: ['classifier.weight', 'classifier.bias']\n",
      "You should probably TRAIN this model on a down-stream task to be able to use it for predictions and inference.\n",
      "C:\\Users\\Fomkin.AG\\Anaconda3\\lib\\site-packages\\transformers\\optimization.py:411: FutureWarning: This implementation of AdamW is deprecated and will be removed in a future version. Use the PyTorch implementation torch.optim.AdamW instead, or set `no_deprecation_warning=True` to disable this warning\n",
      "  warnings.warn(\n"
     ]
    },
    {
     "name": "stdout",
     "output_type": "stream",
     "text": [
      "Validation Accuracy: 0.6400194387073259\n",
      "Validation Accuracy: 0.6400194387073259\n",
      "Validation Accuracy: 0.6400194387073259\n"
     ]
    }
   ],
   "source": [
    "device = torch.device(\"cuda\" if torch.cuda.is_available() else \"cpu\")\n",
    "\n",
    "# Инициализация модели\n",
    "model = BertForSequenceClassification.from_pretrained(\"bert-base-uncased\", num_labels=5)\n",
    "model.to(device)\n",
    "\n",
    "# Оптимизатор и sheduler\n",
    "optimizer = AdamW(model.parameters(), lr=1e-5)\n",
    "scheduler = get_linear_schedule_with_warmup(optimizer, num_warmup_steps=0, num_training_steps=len(train_dataloader))\n",
    "\n",
    "# Обучение и валидация\n",
    "num_epochs = 3\n",
    "for epoch in range(num_epochs):\n",
    "    model.train()\n",
    "    for batch in train_dataloader:\n",
    "        input_ids, attention_mask, labels = tuple(t.to(device) for t in batch)\n",
    "        \n",
    "        optimizer.zero_grad()\n",
    "        \n",
    "        outputs = model(input_ids, attention_mask=attention_mask, labels=labels)\n",
    "        loss = outputs.loss\n",
    "        loss.backward()\n",
    "        \n",
    "        # Регуляризация и обновление весов\n",
    "        torch.nn.utils.clip_grad_norm_(model.parameters(), 1.0)\n",
    "        optimizer.step()\n",
    "        scheduler.step()\n",
    "    \n",
    "    model.eval()\n",
    "    val_preds, val_labels = [], []\n",
    "    for batch in val_dataloader:\n",
    "        input_ids, attention_mask, labels = tuple(t.to(device) for t in batch)\n",
    "        \n",
    "        with torch.no_grad():\n",
    "            outputs = model(input_ids, attention_mask=attention_mask)\n",
    "        \n",
    "        logits = outputs.logits\n",
    "        logits = logits.detach().cpu().numpy()\n",
    "        label_ids = labels.to('cpu').numpy()\n",
    "        \n",
    "        val_preds.extend(np.argmax(logits, axis=1).flatten())\n",
    "        val_labels.extend(label_ids.flatten())\n",
    "        \n",
    "    val_accuracy = accuracy_score(val_labels, val_preds)\n",
    "    print(f\"Validation Accuracy: {val_accuracy}\")"
   ]
  },
  {
   "cell_type": "markdown",
   "id": "013bbc9f-f508-4f6f-adfb-47b275dcce89",
   "metadata": {},
   "source": [
    "# Ensemble"
   ]
  },
  {
   "cell_type": "code",
   "execution_count": 22,
   "id": "b9aa93a4-f888-437c-9674-392e7d95e93a",
   "metadata": {},
   "outputs": [],
   "source": [
    "# ф-я ансамбля\n",
    "def ensemble_predict(models, dataloader):\n",
    "    ensemble_preds, true_labels = [], []\n",
    "    \n",
    "    for batch in dataloader:\n",
    "        batch_preds = np.zeros((batch[0].shape[0], 5))  # 5 классов\n",
    "        input_ids, attention_mask, labels = tuple(t.to(device) for t in batch)\n",
    "        \n",
    "        for model in models:\n",
    "            model.eval()\n",
    "            with torch.no_grad():\n",
    "                outputs = model(input_ids, attention_mask=attention_mask)\n",
    "            \n",
    "            logits = outputs.logits\n",
    "            logits = F.softmax(logits, dim=1)\n",
    "            logits = logits.detach().cpu().numpy()\n",
    "            \n",
    "            batch_preds += logits\n",
    "            \n",
    "        batch_preds /= len(models)  # Усреднение\n",
    "        ensemble_preds.extend(np.argmax(batch_preds, axis=1).flatten())\n",
    "        true_labels.extend(labels.to('cpu').numpy().flatten())\n",
    "    \n",
    "    return np.array(ensemble_preds), np.array(true_labels)"
   ]
  },
  {
   "cell_type": "code",
   "execution_count": 23,
   "id": "7c3012c5-d272-4293-bb5e-6eb4de2d8cdf",
   "metadata": {},
   "outputs": [],
   "source": [
    "# models_list = [model1, model2, model3]  # model1, model2 и model3 должны быть предварительно обучены\n",
    "\n",
    "# ensemble_preds, true_labels = ensemble_predict(models_list, val_dataloader)\n",
    "# ensemble_accuracy = accuracy_score(true_labels, ensemble_preds)\n",
    "\n",
    "# print(f\"Ensemble Validation Accuracy: {ensemble_accuracy}\")"
   ]
  },
  {
   "cell_type": "code",
   "execution_count": null,
   "id": "5b195466-0a83-416d-b3b5-66b71a527476",
   "metadata": {},
   "outputs": [],
   "source": [
    "# # Экспорт предсказаний в CSV\n",
    "# test_batch = tokenize_batch(test_data)  # `test_data` содержит тестовый датасет\n",
    "\n",
    "# test_dataset = TensorDataset(\n",
    "#     torch.tensor(test_batch['input_ids'], dtype=torch.long),\n",
    "#     torch.tensor(test_batch['attention_mask'], dtype=torch.long)\n",
    "# )\n",
    "# test_dataloader = DataLoader(test_dataset, sampler=SequentialSampler(test_dataset), batch_size=batch_size)\n",
    "\n",
    "# ensemble_test_preds, _ = ensemble_predict(models_list, test_dataloader)\n",
    "\n",
    "# # Обратное преобразование предсказаний (decoding)\n",
    "# sentiment_map = {0: \"Extremely Negative\", 1: \"Negative\", 2: \"Neutral\", 3: \"Positive\", 4: \"Extremely Positive\"}\n",
    "# decoded_preds = [sentiment_map[pred] for pred in ensemble_test_preds]\n",
    "\n",
    "# # Сохранение в CSV\n",
    "# output_df = pd.DataFrame({\"Text\": test_data['Text'], \"Sentiment\": decoded_preds})\n",
    "# output_df.to_csv(\"ensemble_predictions.csv\", index=False)"
   ]
  },
  {
   "cell_type": "code",
   "execution_count": 24,
   "id": "87e82492-d298-4932-b350-193d16d346d6",
   "metadata": {},
   "outputs": [],
   "source": [
    "# Предсказание и экспорт для одной модели\n",
    "def predict_single_model(model, dataloader):\n",
    "    model_preds = []\n",
    "    model.eval()\n",
    "\n",
    "    for batch in dataloader:\n",
    "        input_ids, attention_mask = tuple(t.to(device) for t in batch)\n",
    "        \n",
    "        with torch.no_grad():\n",
    "            outputs = model(input_ids, attention_mask=attention_mask)\n",
    "        \n",
    "        logits = outputs.logits\n",
    "        logits = logits.detach().cpu().numpy()\n",
    "        \n",
    "        model_preds.extend(np.argmax(logits, axis=1).flatten())\n",
    "        \n",
    "    return np.array(model_preds)"
   ]
  },
  {
   "cell_type": "code",
   "execution_count": 36,
   "id": "b43db555-30e8-4eae-b2b6-a5582e7f0f1a",
   "metadata": {},
   "outputs": [],
   "source": [
    "# Подготовка тестового DataLoader\n",
    "test_batch = tokenize_batch(test_data1)"
   ]
  },
  {
   "cell_type": "code",
   "execution_count": 37,
   "id": "acd5dff1-1ac7-400e-a09a-957db1e73b70",
   "metadata": {},
   "outputs": [],
   "source": [
    "test_dataset = TensorDataset(\n",
    "    torch.tensor(test_batch['input_ids'], dtype=torch.long),\n",
    "    torch.tensor(test_batch['attention_mask'], dtype=torch.long)\n",
    ")"
   ]
  },
  {
   "cell_type": "code",
   "execution_count": 38,
   "id": "11a4b587-58ea-4242-b1c6-5d7be960fb60",
   "metadata": {},
   "outputs": [],
   "source": [
    "test_dataloader = DataLoader(test_dataset, sampler=SequentialSampler(test_dataset), batch_size=batch_size)"
   ]
  },
  {
   "cell_type": "code",
   "execution_count": 39,
   "id": "29b00073-a2e6-4961-b951-8e5773fedd5a",
   "metadata": {},
   "outputs": [],
   "source": [
    "# Применение функции для предсказания\n",
    "single_model_preds = predict_single_model(model, test_dataloader)"
   ]
  },
  {
   "cell_type": "code",
   "execution_count": 40,
   "id": "ca75e1d0-b602-4bdd-b385-8096f6b5319c",
   "metadata": {},
   "outputs": [],
   "source": [
    "# Обратное преобразование предсказаний (decoding)\n",
    "sentiment_map = {0: \"Extremely Negative\", 1: \"Negative\", 2: \"Neutral\", 3: \"Positive\", 4: \"Extremely Positive\"}\n",
    "decoded_preds = [sentiment_map[pred] for pred in single_model_preds]"
   ]
  },
  {
   "cell_type": "code",
   "execution_count": 42,
   "id": "20247a34-e1e8-4e2c-b403-15553ade42d0",
   "metadata": {},
   "outputs": [
    {
     "data": {
      "text/html": [
       "<div>\n",
       "<style scoped>\n",
       "    .dataframe tbody tr th:only-of-type {\n",
       "        vertical-align: middle;\n",
       "    }\n",
       "\n",
       "    .dataframe tbody tr th {\n",
       "        vertical-align: top;\n",
       "    }\n",
       "\n",
       "    .dataframe thead th {\n",
       "        text-align: right;\n",
       "    }\n",
       "</style>\n",
       "<table border=\"1\" class=\"dataframe\">\n",
       "  <thead>\n",
       "    <tr style=\"text-align: right;\">\n",
       "      <th></th>\n",
       "      <th>Text</th>\n",
       "    </tr>\n",
       "  </thead>\n",
       "  <tbody>\n",
       "    <tr>\n",
       "      <th>0</th>\n",
       "      <td>TRENDING: New Yorkers encounter empty supermar...</td>\n",
       "    </tr>\n",
       "    <tr>\n",
       "      <th>1</th>\n",
       "      <td>When I couldn't find hand sanitizer at Fred Me...</td>\n",
       "    </tr>\n",
       "    <tr>\n",
       "      <th>2</th>\n",
       "      <td>Find out how you can protect yourself and love...</td>\n",
       "    </tr>\n",
       "    <tr>\n",
       "      <th>3</th>\n",
       "      <td>#Panic buying hits #NewYork City as anxious sh...</td>\n",
       "    </tr>\n",
       "    <tr>\n",
       "      <th>4</th>\n",
       "      <td>#toiletpaper #dunnypaper #coronavirus #coronav...</td>\n",
       "    </tr>\n",
       "    <tr>\n",
       "      <th>...</th>\n",
       "      <td>...</td>\n",
       "    </tr>\n",
       "    <tr>\n",
       "      <th>3793</th>\n",
       "      <td>Meanwhile In A Supermarket in Israel -- People...</td>\n",
       "    </tr>\n",
       "    <tr>\n",
       "      <th>3794</th>\n",
       "      <td>Did you panic buy a lot of non-perishable item...</td>\n",
       "    </tr>\n",
       "    <tr>\n",
       "      <th>3795</th>\n",
       "      <td>Asst Prof of Economics @cconces was on @NBCPhi...</td>\n",
       "    </tr>\n",
       "    <tr>\n",
       "      <th>3796</th>\n",
       "      <td>Gov need to do somethings instead of biar je r...</td>\n",
       "    </tr>\n",
       "    <tr>\n",
       "      <th>3797</th>\n",
       "      <td>I and @ForestandPaper members are committed to...</td>\n",
       "    </tr>\n",
       "  </tbody>\n",
       "</table>\n",
       "<p>3798 rows × 1 columns</p>\n",
       "</div>"
      ],
      "text/plain": [
       "                                                   Text\n",
       "0     TRENDING: New Yorkers encounter empty supermar...\n",
       "1     When I couldn't find hand sanitizer at Fred Me...\n",
       "2     Find out how you can protect yourself and love...\n",
       "3     #Panic buying hits #NewYork City as anxious sh...\n",
       "4     #toiletpaper #dunnypaper #coronavirus #coronav...\n",
       "...                                                 ...\n",
       "3793  Meanwhile In A Supermarket in Israel -- People...\n",
       "3794  Did you panic buy a lot of non-perishable item...\n",
       "3795  Asst Prof of Economics @cconces was on @NBCPhi...\n",
       "3796  Gov need to do somethings instead of biar je r...\n",
       "3797  I and @ForestandPaper members are committed to...\n",
       "\n",
       "[3798 rows x 1 columns]"
      ]
     },
     "execution_count": 42,
     "metadata": {},
     "output_type": "execute_result"
    }
   ],
   "source": [
    "test_data"
   ]
  },
  {
   "cell_type": "code",
   "execution_count": 43,
   "id": "76befb1c-ca57-4a6d-8885-9984880fed5c",
   "metadata": {},
   "outputs": [],
   "source": [
    "# Экспорт предсказаний в CSV\n",
    "output_df = pd.DataFrame({\"id\": test_data1['id'], \"Sentiment\": decoded_preds})\n",
    "output_df.to_csv(\"single_model_bert_predictions.csv\", index=False)"
   ]
  }
 ],
 "metadata": {
  "kernelspec": {
   "display_name": "Python 3 (ipykernel)",
   "language": "python",
   "name": "python3"
  },
  "language_info": {
   "codemirror_mode": {
    "name": "ipython",
    "version": 3
   },
   "file_extension": ".py",
   "mimetype": "text/x-python",
   "name": "python",
   "nbconvert_exporter": "python",
   "pygments_lexer": "ipython3",
   "version": "3.9.12"
  }
 },
 "nbformat": 4,
 "nbformat_minor": 5
}
