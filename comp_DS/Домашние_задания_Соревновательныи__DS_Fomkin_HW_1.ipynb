{
 "cells": [
  {
   "cell_type": "markdown",
   "metadata": {
    "id": "_Yx1Mi7abuht"
   },
   "source": [
    "# План домашних заданий"
   ]
  },
  {
   "cell_type": "markdown",
   "metadata": {
    "id": "_HK3X8tveQhH"
   },
   "source": [
    "\n",
    "- Описание задачи и знакомство с данными\n",
    "- Домашнее задание 1. Генерация и фильтрация признаков\n",
    "- Домашнее задание 2. Прогноз времени и вида поломки машин, настройка ML-модели\n",
    "- Дополнительное задание. Визуализация прогнозов, ошибок модели и важности признаков\n",
    "- Домашнее задание 3. Оптимизация. Тюнинг гиперпараметров с помощью `Optuna`\n",
    "- Домашнее задание 4. Блендинг\n",
    "- Домашнее задание 5. Парсинг внешних данных и оптимизация памяти\n",
    "- Отправка финального решения на лидерборд на Kaggle"
   ]
  },
  {
   "cell_type": "code",
   "execution_count": 1,
   "metadata": {
    "id": "cfomgq3Sbuht",
    "tags": []
   },
   "outputs": [],
   "source": [
    "import pandas as pd\n",
    "import numpy as np\n",
    "import matplotlib.pyplot as plt\n",
    "import seaborn as sns"
   ]
  },
  {
   "cell_type": "markdown",
   "metadata": {
    "id": "fkeIBE5Kbuht"
   },
   "source": [
    "# <center id=\"part0\"> Описание задачи"
   ]
  },
  {
   "cell_type": "markdown",
   "metadata": {
    "id": "MKmknPZbbuht"
   },
   "source": [
    "**Предыстория:**  мы работаем с каршеринговой компанией, которая управляет крупным автопарком машин. Наша цель — предотвратить длительные периоды простоя машин из-за поломок через своевременное обслуживание и ремонт.\n",
    "\n",
    "\n",
    "**Идея для решения проблемы:** создать приоритизированный список обхода машин. Этот список поможет технической бригаде сосредоточиться на автомобилях, которые наиболее вероятно выйдут из строя в ближайшее время.\n",
    "\n",
    "\n",
    "**Как компания решает задачу:**\n",
    "\n",
    "* Собирает данные о поездках и состоянии машин до поломок.\n",
    "\n",
    "* Нанимает Data Scientist, чтобы он смог использовать эти данные для анализа и прогнозирования характера поломок.\n",
    "\n",
    "**Важный момент**: задачи этого специалиста (Data Scientist) предстоит выполнять вам."
   ]
  },
  {
   "cell_type": "markdown",
   "metadata": {
    "id": "-VMB1MVpbuhu"
   },
   "source": [
    "## <center> Знакомство с данными"
   ]
  },
  {
   "cell_type": "markdown",
   "metadata": {
    "id": "TtZE_Frrbuhu"
   },
   "source": [
    "### Информация про машины с таргетом (основной датасет)"
   ]
  },
  {
   "cell_type": "code",
   "execution_count": 3,
   "metadata": {
    "id": "DhA6zYqebuhu",
    "outputId": "6d64cd41-646a-4d14-b9cb-63330516265c",
    "tags": []
   },
   "outputs": [
    {
     "data": {
      "text/html": [
       "<div>\n",
       "<style scoped>\n",
       "    .dataframe tbody tr th:only-of-type {\n",
       "        vertical-align: middle;\n",
       "    }\n",
       "\n",
       "    .dataframe tbody tr th {\n",
       "        vertical-align: top;\n",
       "    }\n",
       "\n",
       "    .dataframe thead th {\n",
       "        text-align: right;\n",
       "    }\n",
       "</style>\n",
       "<table border=\"1\" class=\"dataframe\">\n",
       "  <thead>\n",
       "    <tr style=\"text-align: right;\">\n",
       "      <th></th>\n",
       "      <th>car_id</th>\n",
       "      <th>model</th>\n",
       "      <th>car_type</th>\n",
       "      <th>fuel_type</th>\n",
       "      <th>car_rating</th>\n",
       "      <th>year_to_start</th>\n",
       "      <th>riders</th>\n",
       "      <th>year_to_work</th>\n",
       "      <th>target_reg</th>\n",
       "      <th>target_class</th>\n",
       "    </tr>\n",
       "  </thead>\n",
       "  <tbody>\n",
       "    <tr>\n",
       "      <th>192</th>\n",
       "      <td>u-2070489i</td>\n",
       "      <td>Volkswagen ID.4</td>\n",
       "      <td>premium</td>\n",
       "      <td>electro</td>\n",
       "      <td>5.50</td>\n",
       "      <td>2013</td>\n",
       "      <td>41332</td>\n",
       "      <td>2018</td>\n",
       "      <td>48.81</td>\n",
       "      <td>electro_bug</td>\n",
       "    </tr>\n",
       "    <tr>\n",
       "      <th>450</th>\n",
       "      <td>V20793549R</td>\n",
       "      <td>Renault Sandero</td>\n",
       "      <td>standart</td>\n",
       "      <td>petrol</td>\n",
       "      <td>3.42</td>\n",
       "      <td>2011</td>\n",
       "      <td>2744</td>\n",
       "      <td>2020</td>\n",
       "      <td>61.96</td>\n",
       "      <td>another_bug</td>\n",
       "    </tr>\n",
       "    <tr>\n",
       "      <th>1120</th>\n",
       "      <td>N44849090k</td>\n",
       "      <td>Tesla Model 3</td>\n",
       "      <td>premium</td>\n",
       "      <td>electro</td>\n",
       "      <td>3.60</td>\n",
       "      <td>2015</td>\n",
       "      <td>86115</td>\n",
       "      <td>2022</td>\n",
       "      <td>55.30</td>\n",
       "      <td>electro_bug</td>\n",
       "    </tr>\n",
       "    <tr>\n",
       "      <th>2043</th>\n",
       "      <td>Q-2229156F</td>\n",
       "      <td>Smart ForTwo</td>\n",
       "      <td>economy</td>\n",
       "      <td>petrol</td>\n",
       "      <td>6.44</td>\n",
       "      <td>2013</td>\n",
       "      <td>41238</td>\n",
       "      <td>2019</td>\n",
       "      <td>55.39</td>\n",
       "      <td>engine_check</td>\n",
       "    </tr>\n",
       "    <tr>\n",
       "      <th>227</th>\n",
       "      <td>w-1247054B</td>\n",
       "      <td>Smart ForFour</td>\n",
       "      <td>economy</td>\n",
       "      <td>petrol</td>\n",
       "      <td>4.96</td>\n",
       "      <td>2016</td>\n",
       "      <td>95216</td>\n",
       "      <td>2022</td>\n",
       "      <td>25.11</td>\n",
       "      <td>gear_stick</td>\n",
       "    </tr>\n",
       "  </tbody>\n",
       "</table>\n",
       "</div>"
      ],
      "text/plain": [
       "          car_id             model  car_type fuel_type  car_rating  \\\n",
       "192   u-2070489i  Volkswagen ID.4    premium   electro        5.50   \n",
       "450   V20793549R   Renault Sandero  standart    petrol        3.42   \n",
       "1120  N44849090k     Tesla Model 3   premium   electro        3.60   \n",
       "2043  Q-2229156F      Smart ForTwo   economy    petrol        6.44   \n",
       "227   w-1247054B     Smart ForFour   economy    petrol        4.96   \n",
       "\n",
       "      year_to_start  riders  year_to_work  target_reg  target_class  \n",
       "192            2013   41332          2018       48.81   electro_bug  \n",
       "450            2011    2744          2020       61.96   another_bug  \n",
       "1120           2015   86115          2022       55.30   electro_bug  \n",
       "2043           2013   41238          2019       55.39  engine_check  \n",
       "227            2016   95216          2022       25.11    gear_stick  "
      ]
     },
     "execution_count": 3,
     "metadata": {},
     "output_type": "execute_result"
    }
   ],
   "source": [
    "car_train = pd.read_csv('https://raw.githubusercontent.com/a-milenkin/Competitive_Data_Science/main/data/car_train.csv')\n",
    "car_train.sample(5)"
   ]
  },
  {
   "cell_type": "markdown",
   "metadata": {
    "id": "AWvQSnafbuhu"
   },
   "source": [
    "- `car_id` — идентификатор машины\n",
    "- `model` / `car_type` / `fuel_type` — марка, класс и тип топлива машины\n",
    "- `car_rating` / `riders` — общий рейтинг и общее число поездок к концу 2021 года\n",
    "- `year_to_start` / `year_to_work` — год выпуска машины и год начала работы в автопарке\n",
    "- `target_reg` — количество дней до поломки\n",
    "- `target_class` — класс поломки (всего 9 видов)"
   ]
  },
  {
   "cell_type": "markdown",
   "metadata": {
    "id": "6KWf2LgObuhu"
   },
   "source": [
    "### Информация про поездки"
   ]
  },
  {
   "cell_type": "code",
   "execution_count": 4,
   "metadata": {
    "id": "pDc5gXzbbuhu",
    "outputId": "53849f03-cf5e-4773-e68e-7d4ba6ed5e37",
    "tags": []
   },
   "outputs": [
    {
     "data": {
      "text/html": [
       "<div>\n",
       "<style scoped>\n",
       "    .dataframe tbody tr th:only-of-type {\n",
       "        vertical-align: middle;\n",
       "    }\n",
       "\n",
       "    .dataframe tbody tr th {\n",
       "        vertical-align: top;\n",
       "    }\n",
       "\n",
       "    .dataframe thead th {\n",
       "        text-align: right;\n",
       "    }\n",
       "</style>\n",
       "<table border=\"1\" class=\"dataframe\">\n",
       "  <thead>\n",
       "    <tr style=\"text-align: right;\">\n",
       "      <th></th>\n",
       "      <th>user_id</th>\n",
       "      <th>car_id</th>\n",
       "      <th>ride_id</th>\n",
       "      <th>ride_date</th>\n",
       "      <th>rating</th>\n",
       "      <th>ride_duration</th>\n",
       "      <th>ride_cost</th>\n",
       "      <th>speed_avg</th>\n",
       "      <th>speed_max</th>\n",
       "      <th>stop_times</th>\n",
       "      <th>distance</th>\n",
       "      <th>refueling</th>\n",
       "      <th>user_ride_quality</th>\n",
       "      <th>deviation_normal</th>\n",
       "    </tr>\n",
       "  </thead>\n",
       "  <tbody>\n",
       "    <tr>\n",
       "      <th>250985</th>\n",
       "      <td>Z14541055r</td>\n",
       "      <td>R14565987z</td>\n",
       "      <td>j1t</td>\n",
       "      <td>2020-02-10</td>\n",
       "      <td>4.21</td>\n",
       "      <td>47</td>\n",
       "      <td>512</td>\n",
       "      <td>40</td>\n",
       "      <td>53.710163</td>\n",
       "      <td>0</td>\n",
       "      <td>1648.827934</td>\n",
       "      <td>0</td>\n",
       "      <td>12.530037</td>\n",
       "      <td>-36.598</td>\n",
       "    </tr>\n",
       "    <tr>\n",
       "      <th>48766</th>\n",
       "      <td>i10147451X</td>\n",
       "      <td>D-1975819d</td>\n",
       "      <td>O1U</td>\n",
       "      <td>2020-01-25</td>\n",
       "      <td>4.12</td>\n",
       "      <td>25</td>\n",
       "      <td>270</td>\n",
       "      <td>50</td>\n",
       "      <td>108.441766</td>\n",
       "      <td>1</td>\n",
       "      <td>1171.997988</td>\n",
       "      <td>0</td>\n",
       "      <td>8.504087</td>\n",
       "      <td>27.639</td>\n",
       "    </tr>\n",
       "    <tr>\n",
       "      <th>120333</th>\n",
       "      <td>e22400759x</td>\n",
       "      <td>I12233871v</td>\n",
       "      <td>o1i</td>\n",
       "      <td>2020-02-22</td>\n",
       "      <td>4.10</td>\n",
       "      <td>6</td>\n",
       "      <td>77</td>\n",
       "      <td>34</td>\n",
       "      <td>73.000000</td>\n",
       "      <td>1</td>\n",
       "      <td>91.368475</td>\n",
       "      <td>0</td>\n",
       "      <td>5.288481</td>\n",
       "      <td>-33.300</td>\n",
       "    </tr>\n",
       "    <tr>\n",
       "      <th>450363</th>\n",
       "      <td>S76680420D</td>\n",
       "      <td>f22138231E</td>\n",
       "      <td>l1W</td>\n",
       "      <td>2020-01-28</td>\n",
       "      <td>4.77</td>\n",
       "      <td>52</td>\n",
       "      <td>826</td>\n",
       "      <td>50</td>\n",
       "      <td>67.000000</td>\n",
       "      <td>1</td>\n",
       "      <td>1809.786257</td>\n",
       "      <td>0</td>\n",
       "      <td>11.953247</td>\n",
       "      <td>-3.168</td>\n",
       "    </tr>\n",
       "    <tr>\n",
       "      <th>636206</th>\n",
       "      <td>a83608045H</td>\n",
       "      <td>s77828126e</td>\n",
       "      <td>w1J</td>\n",
       "      <td>2020-02-03</td>\n",
       "      <td>4.39</td>\n",
       "      <td>32</td>\n",
       "      <td>506</td>\n",
       "      <td>38</td>\n",
       "      <td>56.596152</td>\n",
       "      <td>1</td>\n",
       "      <td>833.047790</td>\n",
       "      <td>0</td>\n",
       "      <td>11.741216</td>\n",
       "      <td>-20.131</td>\n",
       "    </tr>\n",
       "  </tbody>\n",
       "</table>\n",
       "</div>"
      ],
      "text/plain": [
       "           user_id      car_id ride_id   ride_date  rating  ride_duration  \\\n",
       "250985  Z14541055r  R14565987z     j1t  2020-02-10    4.21             47   \n",
       "48766   i10147451X  D-1975819d     O1U  2020-01-25    4.12             25   \n",
       "120333  e22400759x  I12233871v     o1i  2020-02-22    4.10              6   \n",
       "450363  S76680420D  f22138231E     l1W  2020-01-28    4.77             52   \n",
       "636206  a83608045H  s77828126e     w1J  2020-02-03    4.39             32   \n",
       "\n",
       "        ride_cost  speed_avg   speed_max  stop_times     distance  refueling  \\\n",
       "250985        512         40   53.710163           0  1648.827934          0   \n",
       "48766         270         50  108.441766           1  1171.997988          0   \n",
       "120333         77         34   73.000000           1    91.368475          0   \n",
       "450363        826         50   67.000000           1  1809.786257          0   \n",
       "636206        506         38   56.596152           1   833.047790          0   \n",
       "\n",
       "        user_ride_quality  deviation_normal  \n",
       "250985          12.530037           -36.598  \n",
       "48766            8.504087            27.639  \n",
       "120333           5.288481           -33.300  \n",
       "450363          11.953247            -3.168  \n",
       "636206          11.741216           -20.131  "
      ]
     },
     "execution_count": 4,
     "metadata": {},
     "output_type": "execute_result"
    }
   ],
   "source": [
    "rides_info = pd.read_csv('https://raw.githubusercontent.com/a-milenkin/Competitive_Data_Science/main/data/rides_info.csv')\n",
    "rides_info.sample(5)"
   ]
  },
  {
   "cell_type": "markdown",
   "metadata": {
    "id": "ZAn8S24sbuhv"
   },
   "source": [
    "- `user_id` / `car_id` / `ride_id` — идентификаторы водителя, машины, поездки соответственно\n",
    "- `ride_date` / `rating` — дата поездки и рейтинг, поставленный водителем\n",
    "- `ride_duration` / `distance` / `ride_cost` —  длительность (время),  пройденное расстояние, стоимость поездки\n",
    "- `speed_avg` / `speed_max` — средняя и максимальная скорости поездки соответственно\n",
    "- `stop_times` / `refueling` — количество остановок (паузы) и флаг: была ли дозаправка\n",
    "- `user_ride_quality` — оценка манеры вождения водителя машины, определенная скоринговой ML-системой сервиса\n",
    "- `deviation_normal` — общий показатель датчиков о состоянии машины, относительно эталонных показателей (нормы)"
   ]
  },
  {
   "cell_type": "markdown",
   "metadata": {
    "id": "O0Onuz4ybuhv"
   },
   "source": [
    "### Информация про водителей"
   ]
  },
  {
   "cell_type": "code",
   "execution_count": 5,
   "metadata": {
    "id": "WBEvQXhxbuhv",
    "outputId": "80c61226-f3e4-445c-e122-d019200a5fbb",
    "tags": []
   },
   "outputs": [
    {
     "data": {
      "text/html": [
       "<div>\n",
       "<style scoped>\n",
       "    .dataframe tbody tr th:only-of-type {\n",
       "        vertical-align: middle;\n",
       "    }\n",
       "\n",
       "    .dataframe tbody tr th {\n",
       "        vertical-align: top;\n",
       "    }\n",
       "\n",
       "    .dataframe thead th {\n",
       "        text-align: right;\n",
       "    }\n",
       "</style>\n",
       "<table border=\"1\" class=\"dataframe\">\n",
       "  <thead>\n",
       "    <tr style=\"text-align: right;\">\n",
       "      <th></th>\n",
       "      <th>age</th>\n",
       "      <th>user_rating</th>\n",
       "      <th>user_rides</th>\n",
       "      <th>user_time_accident</th>\n",
       "      <th>user_id</th>\n",
       "      <th>sex</th>\n",
       "      <th>first_ride_date</th>\n",
       "    </tr>\n",
       "  </thead>\n",
       "  <tbody>\n",
       "    <tr>\n",
       "      <th>11491</th>\n",
       "      <td>45</td>\n",
       "      <td>7.2</td>\n",
       "      <td>1197</td>\n",
       "      <td>0.0</td>\n",
       "      <td>l17306718p</td>\n",
       "      <td>0</td>\n",
       "      <td>2020-12-23</td>\n",
       "    </tr>\n",
       "    <tr>\n",
       "      <th>14842</th>\n",
       "      <td>37</td>\n",
       "      <td>8.0</td>\n",
       "      <td>168</td>\n",
       "      <td>4.0</td>\n",
       "      <td>c25809265L</td>\n",
       "      <td>0</td>\n",
       "      <td>2019-9-30</td>\n",
       "    </tr>\n",
       "    <tr>\n",
       "      <th>1469</th>\n",
       "      <td>42</td>\n",
       "      <td>8.0</td>\n",
       "      <td>1010</td>\n",
       "      <td>12.0</td>\n",
       "      <td>H17801267M</td>\n",
       "      <td>0</td>\n",
       "      <td>2021-2-3</td>\n",
       "    </tr>\n",
       "    <tr>\n",
       "      <th>8511</th>\n",
       "      <td>41</td>\n",
       "      <td>8.3</td>\n",
       "      <td>182</td>\n",
       "      <td>0.0</td>\n",
       "      <td>G18181317o</td>\n",
       "      <td>0</td>\n",
       "      <td>2020-3-28</td>\n",
       "    </tr>\n",
       "    <tr>\n",
       "      <th>15126</th>\n",
       "      <td>32</td>\n",
       "      <td>7.5</td>\n",
       "      <td>454</td>\n",
       "      <td>19.0</td>\n",
       "      <td>E95787523d</td>\n",
       "      <td>1</td>\n",
       "      <td>2020-6-11</td>\n",
       "    </tr>\n",
       "  </tbody>\n",
       "</table>\n",
       "</div>"
      ],
      "text/plain": [
       "       age  user_rating  user_rides  user_time_accident     user_id  sex  \\\n",
       "11491   45          7.2        1197                 0.0  l17306718p    0   \n",
       "14842   37          8.0         168                 4.0  c25809265L    0   \n",
       "1469    42          8.0        1010                12.0  H17801267M    0   \n",
       "8511    41          8.3         182                 0.0  G18181317o    0   \n",
       "15126   32          7.5         454                19.0  E95787523d    1   \n",
       "\n",
       "      first_ride_date  \n",
       "11491      2020-12-23  \n",
       "14842       2019-9-30  \n",
       "1469         2021-2-3  \n",
       "8511        2020-3-28  \n",
       "15126       2020-6-11  "
      ]
     },
     "execution_count": 5,
     "metadata": {},
     "output_type": "execute_result"
    }
   ],
   "source": [
    "driver_info = pd.read_csv('https://raw.githubusercontent.com/a-milenkin/Competitive_Data_Science/main/data/driver_info.csv')\n",
    "driver_info.sample(5)"
   ]
  },
  {
   "cell_type": "markdown",
   "metadata": {
    "id": "ubFE8w-Kbuhv"
   },
   "source": [
    "- `user_id` / `age` / `sex` — идентификатор, возраст и пол водителя, соответственно\n",
    "- `user_rating` — общий рейтинг пользователя за все поездки к концу 2021 года\n",
    "- `user_rides` — общее количество поездок к концу 2021 года\n",
    "- `user_time_accident` — число инцидентов (это могли быть аварии/штрафы/эвакуация машины)  \n",
    "- `first_ride_date` — дата первой поездки"
   ]
  },
  {
   "cell_type": "markdown",
   "metadata": {
    "id": "cXDdvlHYbuhv"
   },
   "source": [
    "### Информация про ремонт машин"
   ]
  },
  {
   "cell_type": "code",
   "execution_count": 6,
   "metadata": {
    "id": "eVTjvBspbuhv",
    "outputId": "6ac51c57-542d-45d3-9465-5e4da7a4e4ae",
    "tags": []
   },
   "outputs": [
    {
     "data": {
      "text/html": [
       "<div>\n",
       "<style scoped>\n",
       "    .dataframe tbody tr th:only-of-type {\n",
       "        vertical-align: middle;\n",
       "    }\n",
       "\n",
       "    .dataframe tbody tr th {\n",
       "        vertical-align: top;\n",
       "    }\n",
       "\n",
       "    .dataframe thead th {\n",
       "        text-align: right;\n",
       "    }\n",
       "</style>\n",
       "<table border=\"1\" class=\"dataframe\">\n",
       "  <thead>\n",
       "    <tr style=\"text-align: right;\">\n",
       "      <th></th>\n",
       "      <th>car_id</th>\n",
       "      <th>worker_id</th>\n",
       "      <th>fix_date</th>\n",
       "      <th>work_type</th>\n",
       "      <th>destroy_degree</th>\n",
       "      <th>work_duration</th>\n",
       "    </tr>\n",
       "  </thead>\n",
       "  <tbody>\n",
       "    <tr>\n",
       "      <th>125079</th>\n",
       "      <td>W-3891859t</td>\n",
       "      <td>CZ</td>\n",
       "      <td>2018-10-28 16:50</td>\n",
       "      <td>repair</td>\n",
       "      <td>5.0</td>\n",
       "      <td>13</td>\n",
       "    </tr>\n",
       "    <tr>\n",
       "      <th>138289</th>\n",
       "      <td>R-9698903l</td>\n",
       "      <td>TN</td>\n",
       "      <td>2019-3-29 18:35</td>\n",
       "      <td>refuel_check</td>\n",
       "      <td>1.0</td>\n",
       "      <td>30</td>\n",
       "    </tr>\n",
       "    <tr>\n",
       "      <th>113802</th>\n",
       "      <td>A31292617m</td>\n",
       "      <td>FF</td>\n",
       "      <td>2021-3-19 22:1</td>\n",
       "      <td>reparking</td>\n",
       "      <td>1.0</td>\n",
       "      <td>24</td>\n",
       "    </tr>\n",
       "    <tr>\n",
       "      <th>31050</th>\n",
       "      <td>z-3485115T</td>\n",
       "      <td>ZX</td>\n",
       "      <td>2018-9-26 6:16</td>\n",
       "      <td>repair</td>\n",
       "      <td>10.0</td>\n",
       "      <td>62</td>\n",
       "    </tr>\n",
       "    <tr>\n",
       "      <th>104232</th>\n",
       "      <td>E10817164G</td>\n",
       "      <td>MB</td>\n",
       "      <td>2020-10-20 16:54</td>\n",
       "      <td>repair</td>\n",
       "      <td>4.9</td>\n",
       "      <td>9</td>\n",
       "    </tr>\n",
       "  </tbody>\n",
       "</table>\n",
       "</div>"
      ],
      "text/plain": [
       "            car_id worker_id          fix_date     work_type  destroy_degree  \\\n",
       "125079  W-3891859t        CZ  2018-10-28 16:50        repair             5.0   \n",
       "138289  R-9698903l        TN   2019-3-29 18:35  refuel_check             1.0   \n",
       "113802  A31292617m        FF    2021-3-19 22:1     reparking             1.0   \n",
       "31050   z-3485115T        ZX    2018-9-26 6:16        repair            10.0   \n",
       "104232  E10817164G        MB  2020-10-20 16:54        repair             4.9   \n",
       "\n",
       "        work_duration  \n",
       "125079             13  \n",
       "138289             30  \n",
       "113802             24  \n",
       "31050              62  \n",
       "104232              9  "
      ]
     },
     "execution_count": 6,
     "metadata": {},
     "output_type": "execute_result"
    }
   ],
   "source": [
    "fix_info = pd.read_csv('https://raw.githubusercontent.com/a-milenkin/Competitive_Data_Science/main/data/fix_info.csv')\n",
    "fix_info.sample(5)"
   ]
  },
  {
   "cell_type": "markdown",
   "metadata": {
    "id": "H01U-FFAbuhv"
   },
   "source": [
    "- `worker_id` / `car_id` — идентификатор работника и машины\n",
    "- `work_type` / `work_duration` — тип и длительность (в часах) проводимой работы\n",
    "- `destroy_degree` — степень износа/поврежденности машины в случае поломки\n",
    "- `fix_date` — время начала ремонта (снятия машины с линии)"
   ]
  },
  {
   "cell_type": "markdown",
   "metadata": {
    "id": "qY-lAjlhbuhv"
   },
   "source": [
    "# Домашнее задание 1. Генерация и фильтрация признаков"
   ]
  },
  {
   "cell_type": "markdown",
   "metadata": {
    "id": "9E2N9m5Cbuhv"
   },
   "source": [
    "<center> <img src=\"https://ucarecdn.com/bf4c772d-b67a-42ae-a48b-cfd83910b0a2/\" width=700>"
   ]
  },
  {
   "cell_type": "markdown",
   "metadata": {
    "id": "HaroHWSBbuhw"
   },
   "source": [
    "<div class=\"alert alert-info\">\n",
    "\n",
    "**Цель блока** — сгенерировать признаки из дополнительных датасетов и добавить их к основному датасету, произвести фильтрацию признаков."
   ]
  },
  {
   "cell_type": "markdown",
   "metadata": {
    "id": "wev7E_qlbuhw"
   },
   "source": [
    "    \n",
    "## Задание 1. Генерация признаков из дополнительных датасетов (6 баллов)"
   ]
  },
  {
   "cell_type": "markdown",
   "metadata": {
    "id": "CSX4pA5Kbuhw"
   },
   "source": [
    "<div class=\"alert alert-info\">\n",
    "\n",
    "1. Возьмите датасет `rides_info` с информацией о поездках и проведите группировку по каждой машине отдельно.\n",
    "\n",
    "2. Для каждой машины (то есть для каждого `car_id`) подсчитайте несколько признаков:\n",
    "  - минимальный рейтинг за все поездки;\n",
    "  - средний рейтинг за все поездки;\n",
    "  - общее количество километров, которое машина проехала;\n",
    "  - максимальная скорость;\n",
    "  - общее количество поездок для каждой машины.\n",
    "\n",
    "3. Добавьте минимум 3 признака на свой выбор.\n",
    "\n",
    "4. Сделайте соединение таблиц — вспомните про методы соединения и выберите подходящий для этого случая.\n",
    "\n",
    "5. Подключите информацию про водителей (`driver_info`) и про ремонт машин (`fix_info`). Добавьте минимум 3 любых признака с каждого датасета.\n",
    "\n",
    "\n",
    "<h4> Критерии оценивания </h4>\n",
    "    \n",
    "- Добавлены 5 обязательных и минимум 3 любых признака из датасета `rides_info` — 2 балла.\n",
    "- Добавлены минимум 3 любых признака из датасета `driver_info` — 2 балла.\n",
    "- Добавлены минимум 3 любых признака из датасета `fix_info` — 2 балла.\n",
    "\n",
    "</div>"
   ]
  },
  {
   "cell_type": "markdown",
   "metadata": {
    "id": "kfAs9dZHbuhw"
   },
   "source": [
    "<div class=\"alert alert-success\">\n",
    "    \n",
    "<h4> Советы по Feature Engineering</h4>\n",
    "    \n",
    "- Начинайте с сырых данных.\n",
    "- Используйте все доступные данные. Покрывайте признаками всю имеющуюся информацию в данных.\n",
    "- Формулируйте предположения: от чего зависит таргет?\n",
    "- Смотрите визуально на классы/ошибки и делайте предположения. Какие полезны?\n",
    "- Помните, что слишком много признаков может быть вредно. Потом придется отфильтровывать.\n",
    "    \n",
    "<h4> Полезные источники </h4>\n",
    "    \n",
    "- Занятие про Feature Engineering.\n",
    "- Занятие про Feature Selection.\n",
    "- [Max Kuhn and Kjell Johnson. Feature Engineering and Selection: A Practical Approach for Predictive Models](http://www.feat.engineering/)."
   ]
  },
  {
   "cell_type": "markdown",
   "metadata": {
    "id": "n5pkVaw0eszI"
   },
   "source": [
    "### Пример расчета признака"
   ]
  },
  {
   "cell_type": "code",
   "execution_count": 10,
   "metadata": {
    "id": "CYaNVDLTbuhw",
    "outputId": "74b790bd-f24f-4b3c-a867-d4a19ba4aefa"
   },
   "outputs": [
    {
     "data": {
      "text/html": [
       "<div>\n",
       "<style scoped>\n",
       "    .dataframe tbody tr th:only-of-type {\n",
       "        vertical-align: middle;\n",
       "    }\n",
       "\n",
       "    .dataframe tbody tr th {\n",
       "        vertical-align: top;\n",
       "    }\n",
       "\n",
       "    .dataframe thead th {\n",
       "        text-align: right;\n",
       "    }\n",
       "</style>\n",
       "<table border=\"1\" class=\"dataframe\">\n",
       "  <thead>\n",
       "    <tr style=\"text-align: right;\">\n",
       "      <th></th>\n",
       "      <th>car_id</th>\n",
       "      <th>model</th>\n",
       "      <th>car_type</th>\n",
       "      <th>fuel_type</th>\n",
       "      <th>car_rating</th>\n",
       "      <th>year_to_start</th>\n",
       "      <th>riders</th>\n",
       "      <th>year_to_work</th>\n",
       "      <th>target_reg</th>\n",
       "      <th>target_class</th>\n",
       "      <th>min_rating</th>\n",
       "      <th>mean_rating</th>\n",
       "      <th>total_distance</th>\n",
       "      <th>max_speed</th>\n",
       "      <th>total_rides</th>\n",
       "      <th>mean_ride_duration</th>\n",
       "      <th>mean_speed_avg</th>\n",
       "      <th>total_refueling</th>\n",
       "    </tr>\n",
       "  </thead>\n",
       "  <tbody>\n",
       "    <tr>\n",
       "      <th>0</th>\n",
       "      <td>y13744087j</td>\n",
       "      <td>Kia Rio X-line</td>\n",
       "      <td>economy</td>\n",
       "      <td>petrol</td>\n",
       "      <td>3.78</td>\n",
       "      <td>2015</td>\n",
       "      <td>76163</td>\n",
       "      <td>2021</td>\n",
       "      <td>108.53</td>\n",
       "      <td>another_bug</td>\n",
       "      <td>0.1</td>\n",
       "      <td>4.737759</td>\n",
       "      <td>1.214131e+07</td>\n",
       "      <td>180.855726</td>\n",
       "      <td>174</td>\n",
       "      <td>1635.770115</td>\n",
       "      <td>44.660920</td>\n",
       "      <td>0</td>\n",
       "    </tr>\n",
       "    <tr>\n",
       "      <th>1</th>\n",
       "      <td>O41613818T</td>\n",
       "      <td>VW Polo VI</td>\n",
       "      <td>economy</td>\n",
       "      <td>petrol</td>\n",
       "      <td>3.90</td>\n",
       "      <td>2015</td>\n",
       "      <td>78218</td>\n",
       "      <td>2021</td>\n",
       "      <td>35.20</td>\n",
       "      <td>electro_bug</td>\n",
       "      <td>0.0</td>\n",
       "      <td>4.480517</td>\n",
       "      <td>1.803909e+07</td>\n",
       "      <td>187.862734</td>\n",
       "      <td>174</td>\n",
       "      <td>2223.178161</td>\n",
       "      <td>49.862069</td>\n",
       "      <td>0</td>\n",
       "    </tr>\n",
       "    <tr>\n",
       "      <th>2</th>\n",
       "      <td>d-2109686j</td>\n",
       "      <td>Renault Sandero</td>\n",
       "      <td>standart</td>\n",
       "      <td>petrol</td>\n",
       "      <td>6.30</td>\n",
       "      <td>2012</td>\n",
       "      <td>23340</td>\n",
       "      <td>2017</td>\n",
       "      <td>38.62</td>\n",
       "      <td>gear_stick</td>\n",
       "      <td>0.1</td>\n",
       "      <td>4.768391</td>\n",
       "      <td>1.588366e+07</td>\n",
       "      <td>102.382857</td>\n",
       "      <td>174</td>\n",
       "      <td>2048.856322</td>\n",
       "      <td>44.005747</td>\n",
       "      <td>0</td>\n",
       "    </tr>\n",
       "    <tr>\n",
       "      <th>3</th>\n",
       "      <td>u29695600e</td>\n",
       "      <td>Mercedes-Benz GLC</td>\n",
       "      <td>business</td>\n",
       "      <td>petrol</td>\n",
       "      <td>4.04</td>\n",
       "      <td>2011</td>\n",
       "      <td>1263</td>\n",
       "      <td>2020</td>\n",
       "      <td>30.34</td>\n",
       "      <td>engine_fuel</td>\n",
       "      <td>0.1</td>\n",
       "      <td>3.880920</td>\n",
       "      <td>1.651883e+07</td>\n",
       "      <td>172.793237</td>\n",
       "      <td>174</td>\n",
       "      <td>1943.511494</td>\n",
       "      <td>49.344828</td>\n",
       "      <td>0</td>\n",
       "    </tr>\n",
       "    <tr>\n",
       "      <th>4</th>\n",
       "      <td>N-8915870N</td>\n",
       "      <td>Renault Sandero</td>\n",
       "      <td>standart</td>\n",
       "      <td>petrol</td>\n",
       "      <td>4.70</td>\n",
       "      <td>2012</td>\n",
       "      <td>26428</td>\n",
       "      <td>2017</td>\n",
       "      <td>30.45</td>\n",
       "      <td>engine_fuel</td>\n",
       "      <td>0.1</td>\n",
       "      <td>4.181149</td>\n",
       "      <td>1.398317e+07</td>\n",
       "      <td>203.462289</td>\n",
       "      <td>174</td>\n",
       "      <td>1597.793103</td>\n",
       "      <td>50.603448</td>\n",
       "      <td>0</td>\n",
       "    </tr>\n",
       "  </tbody>\n",
       "</table>\n",
       "</div>"
      ],
      "text/plain": [
       "       car_id              model  car_type fuel_type  car_rating  \\\n",
       "0  y13744087j     Kia Rio X-line   economy    petrol        3.78   \n",
       "1  O41613818T         VW Polo VI   economy    petrol        3.90   \n",
       "2  d-2109686j    Renault Sandero  standart    petrol        6.30   \n",
       "3  u29695600e  Mercedes-Benz GLC  business    petrol        4.04   \n",
       "4  N-8915870N    Renault Sandero  standart    petrol        4.70   \n",
       "\n",
       "   year_to_start  riders  year_to_work  target_reg target_class  min_rating  \\\n",
       "0           2015   76163          2021      108.53  another_bug         0.1   \n",
       "1           2015   78218          2021       35.20  electro_bug         0.0   \n",
       "2           2012   23340          2017       38.62   gear_stick         0.1   \n",
       "3           2011    1263          2020       30.34  engine_fuel         0.1   \n",
       "4           2012   26428          2017       30.45  engine_fuel         0.1   \n",
       "\n",
       "   mean_rating  total_distance   max_speed  total_rides  mean_ride_duration  \\\n",
       "0     4.737759    1.214131e+07  180.855726          174         1635.770115   \n",
       "1     4.480517    1.803909e+07  187.862734          174         2223.178161   \n",
       "2     4.768391    1.588366e+07  102.382857          174         2048.856322   \n",
       "3     3.880920    1.651883e+07  172.793237          174         1943.511494   \n",
       "4     4.181149    1.398317e+07  203.462289          174         1597.793103   \n",
       "\n",
       "   mean_speed_avg  total_refueling  \n",
       "0       44.660920                0  \n",
       "1       49.862069                0  \n",
       "2       44.005747                0  \n",
       "3       49.344828                0  \n",
       "4       50.603448                0  "
      ]
     },
     "execution_count": 10,
     "metadata": {},
     "output_type": "execute_result"
    }
   ],
   "source": [
    "# Пример расчета одного признака\n",
    "rides_features = rides_info.groupby('car_id', as_index=False).agg(\n",
    "    min_rating=('rating', 'min'),\n",
    "    mean_rating=('rating', 'mean'),\n",
    "    total_distance=('distance', 'sum'),\n",
    "    max_speed=('speed_max', 'max'),\n",
    "    total_rides=('ride_id', 'count'),\n",
    "    mean_ride_duration=('ride_duration', 'mean'),\n",
    "    mean_speed_avg=('speed_avg', 'mean'),\n",
    "    total_refueling=('refueling', 'sum')\n",
    ")\n",
    "\n",
    "df = pd.merge(car_train, rides_features, on='car_id', how='left') # Соедините полученный датасет с фичами с основным датасетом\n",
    "\n",
    "df.head()"
   ]
  },
  {
   "cell_type": "code",
   "execution_count": 35,
   "metadata": {},
   "outputs": [
    {
     "data": {
      "text/html": [
       "<div>\n",
       "<style scoped>\n",
       "    .dataframe tbody tr th:only-of-type {\n",
       "        vertical-align: middle;\n",
       "    }\n",
       "\n",
       "    .dataframe tbody tr th {\n",
       "        vertical-align: top;\n",
       "    }\n",
       "\n",
       "    .dataframe thead th {\n",
       "        text-align: right;\n",
       "    }\n",
       "</style>\n",
       "<table border=\"1\" class=\"dataframe\">\n",
       "  <thead>\n",
       "    <tr style=\"text-align: right;\">\n",
       "      <th></th>\n",
       "      <th>user_id</th>\n",
       "      <th>mean_user_rating</th>\n",
       "      <th>total_user_rides</th>\n",
       "      <th>total_user_accidents</th>\n",
       "    </tr>\n",
       "  </thead>\n",
       "  <tbody>\n",
       "    <tr>\n",
       "      <th>0</th>\n",
       "      <td>A10036845F</td>\n",
       "      <td>7.6</td>\n",
       "      <td>668</td>\n",
       "      <td>13.0</td>\n",
       "    </tr>\n",
       "    <tr>\n",
       "      <th>1</th>\n",
       "      <td>A10070382r</td>\n",
       "      <td>8.6</td>\n",
       "      <td>471</td>\n",
       "      <td>15.0</td>\n",
       "    </tr>\n",
       "    <tr>\n",
       "      <th>2</th>\n",
       "      <td>A10189856o</td>\n",
       "      <td>6.8</td>\n",
       "      <td>318</td>\n",
       "      <td>3.0</td>\n",
       "    </tr>\n",
       "    <tr>\n",
       "      <th>3</th>\n",
       "      <td>A10302790R</td>\n",
       "      <td>6.2</td>\n",
       "      <td>1031</td>\n",
       "      <td>9.0</td>\n",
       "    </tr>\n",
       "    <tr>\n",
       "      <th>4</th>\n",
       "      <td>A10371879j</td>\n",
       "      <td>8.7</td>\n",
       "      <td>1190</td>\n",
       "      <td>20.0</td>\n",
       "    </tr>\n",
       "    <tr>\n",
       "      <th>...</th>\n",
       "      <td>...</td>\n",
       "      <td>...</td>\n",
       "      <td>...</td>\n",
       "      <td>...</td>\n",
       "    </tr>\n",
       "    <tr>\n",
       "      <th>15148</th>\n",
       "      <td>z97886080x</td>\n",
       "      <td>8.0</td>\n",
       "      <td>868</td>\n",
       "      <td>5.0</td>\n",
       "    </tr>\n",
       "    <tr>\n",
       "      <th>15149</th>\n",
       "      <td>z98024494F</td>\n",
       "      <td>9.3</td>\n",
       "      <td>394</td>\n",
       "      <td>11.0</td>\n",
       "    </tr>\n",
       "    <tr>\n",
       "      <th>15150</th>\n",
       "      <td>z98672480L</td>\n",
       "      <td>8.1</td>\n",
       "      <td>1575</td>\n",
       "      <td>1.0</td>\n",
       "    </tr>\n",
       "    <tr>\n",
       "      <th>15151</th>\n",
       "      <td>z98727090R</td>\n",
       "      <td>8.4</td>\n",
       "      <td>118</td>\n",
       "      <td>27.0</td>\n",
       "    </tr>\n",
       "    <tr>\n",
       "      <th>15152</th>\n",
       "      <td>z99757546C</td>\n",
       "      <td>8.1</td>\n",
       "      <td>719</td>\n",
       "      <td>13.0</td>\n",
       "    </tr>\n",
       "  </tbody>\n",
       "</table>\n",
       "<p>15153 rows × 4 columns</p>\n",
       "</div>"
      ],
      "text/plain": [
       "          user_id  mean_user_rating  total_user_rides  total_user_accidents\n",
       "0      A10036845F               7.6               668                  13.0\n",
       "1      A10070382r               8.6               471                  15.0\n",
       "2      A10189856o               6.8               318                   3.0\n",
       "3      A10302790R               6.2              1031                   9.0\n",
       "4      A10371879j               8.7              1190                  20.0\n",
       "...           ...               ...               ...                   ...\n",
       "15148  z97886080x               8.0               868                   5.0\n",
       "15149  z98024494F               9.3               394                  11.0\n",
       "15150  z98672480L               8.1              1575                   1.0\n",
       "15151  z98727090R               8.4               118                  27.0\n",
       "15152  z99757546C               8.1               719                  13.0\n",
       "\n",
       "[15153 rows x 4 columns]"
      ]
     },
     "execution_count": 35,
     "metadata": {},
     "output_type": "execute_result"
    }
   ],
   "source": [
    "driver_features"
   ]
  },
  {
   "cell_type": "code",
   "execution_count": 13,
   "metadata": {},
   "outputs": [],
   "source": [
    "# Агрегация признаков из driver_info\n",
    "driver_features = driver_info.groupby('user_id', as_index=False).agg(\n",
    "    mean_user_rating=('user_rating', 'mean'),\n",
    "    total_user_rides=('user_rides', 'sum'),\n",
    "    total_user_accidents=('user_time_accident', 'sum')\n",
    ")"
   ]
  },
  {
   "cell_type": "code",
   "execution_count": 14,
   "metadata": {},
   "outputs": [],
   "source": [
    "# Агрегация признаков из fix_info\n",
    "fix_features = fix_info.groupby('car_id', as_index=False).agg(\n",
    "    mean_destroy_degree=('destroy_degree', 'mean'),\n",
    "    total_work_duration=('work_duration', 'sum'),\n",
    "    unique_workers=('worker_id', 'nunique')\n",
    ")"
   ]
  },
  {
   "cell_type": "code",
   "execution_count": 15,
   "metadata": {},
   "outputs": [
    {
     "data": {
      "text/html": [
       "<div>\n",
       "<style scoped>\n",
       "    .dataframe tbody tr th:only-of-type {\n",
       "        vertical-align: middle;\n",
       "    }\n",
       "\n",
       "    .dataframe tbody tr th {\n",
       "        vertical-align: top;\n",
       "    }\n",
       "\n",
       "    .dataframe thead th {\n",
       "        text-align: right;\n",
       "    }\n",
       "</style>\n",
       "<table border=\"1\" class=\"dataframe\">\n",
       "  <thead>\n",
       "    <tr style=\"text-align: right;\">\n",
       "      <th></th>\n",
       "      <th>car_id</th>\n",
       "      <th>model</th>\n",
       "      <th>car_type</th>\n",
       "      <th>fuel_type</th>\n",
       "      <th>car_rating</th>\n",
       "      <th>year_to_start</th>\n",
       "      <th>riders</th>\n",
       "      <th>year_to_work</th>\n",
       "      <th>target_reg</th>\n",
       "      <th>target_class</th>\n",
       "      <th>...</th>\n",
       "      <th>mean_ride_duration</th>\n",
       "      <th>mean_speed_avg</th>\n",
       "      <th>total_refueling</th>\n",
       "      <th>user_id</th>\n",
       "      <th>mean_user_rating</th>\n",
       "      <th>total_user_rides</th>\n",
       "      <th>total_user_accidents</th>\n",
       "      <th>mean_destroy_degree</th>\n",
       "      <th>total_work_duration</th>\n",
       "      <th>unique_workers</th>\n",
       "    </tr>\n",
       "  </thead>\n",
       "  <tbody>\n",
       "    <tr>\n",
       "      <th>0</th>\n",
       "      <td>y13744087j</td>\n",
       "      <td>Kia Rio X-line</td>\n",
       "      <td>economy</td>\n",
       "      <td>petrol</td>\n",
       "      <td>3.78</td>\n",
       "      <td>2015</td>\n",
       "      <td>76163</td>\n",
       "      <td>2021</td>\n",
       "      <td>108.53</td>\n",
       "      <td>another_bug</td>\n",
       "      <td>...</td>\n",
       "      <td>1635.770115</td>\n",
       "      <td>44.660920</td>\n",
       "      <td>0</td>\n",
       "      <td>NaN</td>\n",
       "      <td>NaN</td>\n",
       "      <td>NaN</td>\n",
       "      <td>NaN</td>\n",
       "      <td>3.048571</td>\n",
       "      <td>933</td>\n",
       "      <td>33</td>\n",
       "    </tr>\n",
       "    <tr>\n",
       "      <th>1</th>\n",
       "      <td>O41613818T</td>\n",
       "      <td>VW Polo VI</td>\n",
       "      <td>economy</td>\n",
       "      <td>petrol</td>\n",
       "      <td>3.90</td>\n",
       "      <td>2015</td>\n",
       "      <td>78218</td>\n",
       "      <td>2021</td>\n",
       "      <td>35.20</td>\n",
       "      <td>electro_bug</td>\n",
       "      <td>...</td>\n",
       "      <td>2223.178161</td>\n",
       "      <td>49.862069</td>\n",
       "      <td>0</td>\n",
       "      <td>NaN</td>\n",
       "      <td>NaN</td>\n",
       "      <td>NaN</td>\n",
       "      <td>NaN</td>\n",
       "      <td>2.917143</td>\n",
       "      <td>873</td>\n",
       "      <td>34</td>\n",
       "    </tr>\n",
       "    <tr>\n",
       "      <th>2</th>\n",
       "      <td>d-2109686j</td>\n",
       "      <td>Renault Sandero</td>\n",
       "      <td>standart</td>\n",
       "      <td>petrol</td>\n",
       "      <td>6.30</td>\n",
       "      <td>2012</td>\n",
       "      <td>23340</td>\n",
       "      <td>2017</td>\n",
       "      <td>38.62</td>\n",
       "      <td>gear_stick</td>\n",
       "      <td>...</td>\n",
       "      <td>2048.856322</td>\n",
       "      <td>44.005747</td>\n",
       "      <td>0</td>\n",
       "      <td>NaN</td>\n",
       "      <td>NaN</td>\n",
       "      <td>NaN</td>\n",
       "      <td>NaN</td>\n",
       "      <td>3.740000</td>\n",
       "      <td>915</td>\n",
       "      <td>35</td>\n",
       "    </tr>\n",
       "    <tr>\n",
       "      <th>3</th>\n",
       "      <td>u29695600e</td>\n",
       "      <td>Mercedes-Benz GLC</td>\n",
       "      <td>business</td>\n",
       "      <td>petrol</td>\n",
       "      <td>4.04</td>\n",
       "      <td>2011</td>\n",
       "      <td>1263</td>\n",
       "      <td>2020</td>\n",
       "      <td>30.34</td>\n",
       "      <td>engine_fuel</td>\n",
       "      <td>...</td>\n",
       "      <td>1943.511494</td>\n",
       "      <td>49.344828</td>\n",
       "      <td>0</td>\n",
       "      <td>NaN</td>\n",
       "      <td>NaN</td>\n",
       "      <td>NaN</td>\n",
       "      <td>NaN</td>\n",
       "      <td>4.085714</td>\n",
       "      <td>1007</td>\n",
       "      <td>34</td>\n",
       "    </tr>\n",
       "    <tr>\n",
       "      <th>4</th>\n",
       "      <td>N-8915870N</td>\n",
       "      <td>Renault Sandero</td>\n",
       "      <td>standart</td>\n",
       "      <td>petrol</td>\n",
       "      <td>4.70</td>\n",
       "      <td>2012</td>\n",
       "      <td>26428</td>\n",
       "      <td>2017</td>\n",
       "      <td>30.45</td>\n",
       "      <td>engine_fuel</td>\n",
       "      <td>...</td>\n",
       "      <td>1597.793103</td>\n",
       "      <td>50.603448</td>\n",
       "      <td>0</td>\n",
       "      <td>NaN</td>\n",
       "      <td>NaN</td>\n",
       "      <td>NaN</td>\n",
       "      <td>NaN</td>\n",
       "      <td>3.880000</td>\n",
       "      <td>981</td>\n",
       "      <td>34</td>\n",
       "    </tr>\n",
       "  </tbody>\n",
       "</table>\n",
       "<p>5 rows × 25 columns</p>\n",
       "</div>"
      ],
      "text/plain": [
       "       car_id              model  car_type fuel_type  car_rating  \\\n",
       "0  y13744087j     Kia Rio X-line   economy    petrol        3.78   \n",
       "1  O41613818T         VW Polo VI   economy    petrol        3.90   \n",
       "2  d-2109686j    Renault Sandero  standart    petrol        6.30   \n",
       "3  u29695600e  Mercedes-Benz GLC  business    petrol        4.04   \n",
       "4  N-8915870N    Renault Sandero  standart    petrol        4.70   \n",
       "\n",
       "   year_to_start  riders  year_to_work  target_reg target_class  ...  \\\n",
       "0           2015   76163          2021      108.53  another_bug  ...   \n",
       "1           2015   78218          2021       35.20  electro_bug  ...   \n",
       "2           2012   23340          2017       38.62   gear_stick  ...   \n",
       "3           2011    1263          2020       30.34  engine_fuel  ...   \n",
       "4           2012   26428          2017       30.45  engine_fuel  ...   \n",
       "\n",
       "   mean_ride_duration  mean_speed_avg  total_refueling  user_id  \\\n",
       "0         1635.770115       44.660920                0      NaN   \n",
       "1         2223.178161       49.862069                0      NaN   \n",
       "2         2048.856322       44.005747                0      NaN   \n",
       "3         1943.511494       49.344828                0      NaN   \n",
       "4         1597.793103       50.603448                0      NaN   \n",
       "\n",
       "   mean_user_rating  total_user_rides  total_user_accidents  \\\n",
       "0               NaN               NaN                   NaN   \n",
       "1               NaN               NaN                   NaN   \n",
       "2               NaN               NaN                   NaN   \n",
       "3               NaN               NaN                   NaN   \n",
       "4               NaN               NaN                   NaN   \n",
       "\n",
       "   mean_destroy_degree total_work_duration  unique_workers  \n",
       "0             3.048571                 933              33  \n",
       "1             2.917143                 873              34  \n",
       "2             3.740000                 915              35  \n",
       "3             4.085714                1007              34  \n",
       "4             3.880000                 981              34  \n",
       "\n",
       "[5 rows x 25 columns]"
      ]
     },
     "execution_count": 15,
     "metadata": {},
     "output_type": "execute_result"
    }
   ],
   "source": [
    "df = pd.merge(df, driver_features, left_on='car_id', right_on='user_id', how='left')\n",
    "df = pd.merge(df, fix_features, on='car_id', how='left')\n",
    "\n",
    "df.head()"
   ]
  },
  {
   "cell_type": "markdown",
   "metadata": {
    "id": "7_jt9yAabuhw",
    "tags": []
   },
   "source": [
    "### Идеи для новых признаков\n",
    "\n",
    "1.   Новый пункт\n",
    "2.   Новый пункт\n",
    "\n"
   ]
  },
  {
   "cell_type": "markdown",
   "metadata": {
    "id": "kLgu7UaofIyr"
   },
   "source": [
    "* `feature_min_max_diff` — разница между максимальным и минимальным значениями `deviation_normal` для каждой машины\n",
    "* `feature_corner` — угол наклона по признаку `user_ride_quality` для каждой машины\n",
    "* `feature_mean` — среднее значение `deviation_normal` для каждой машины\n",
    "* `feature_shift` — точка перегиба/сдвига для `deviation_normal`\n",
    "* `feature_start` — значение точки старта для `deviation_normal`\n",
    "* `feature_nans` — сумма пропусков для столбца `...` для каждой машины\n",
    "* `feature_quant` — `X %` квантиль для столбца `...` для каждой машины\n",
    "\n",
    "Подумайте, какие из признаков могут оказаться самыми полезными?"
   ]
  },
  {
   "cell_type": "markdown",
   "metadata": {},
   "source": [
    "Я выбрал 3 дополнитеьлных признака:<br>\n",
    "\n",
    "- `feature_min_max_diff` (разница между максимальным и минимальным значениями deviation_normal для каждой машины) может быть полезным, так как большая разница указывает на нестабильность состояния машины, что может быть предиктором поломок.\n",
    "\n",
    "- `feature_mean` (среднее значение deviation_normal для каждой машины) даст понимание общего состояния машины по сравнению с нормой, что может помочь выявить машины с потенциальными проблемами.\n",
    "\n",
    "- `feature_quant` (X % квантиль для столбца ... для каждой машины) может быть полезным для идентификации экстремальных значений, которые могут указывать на редкие, но серьезные проблемы."
   ]
  },
  {
   "cell_type": "code",
   "execution_count": 16,
   "metadata": {
    "id": "iB9QODvfbuhw"
   },
   "outputs": [],
   "source": [
    "rides_features_additional = rides_info.groupby('car_id', as_index=False).agg(\n",
    "    feature_min_max_diff=('deviation_normal', lambda x: x.max() - x.min()),\n",
    "    feature_mean_deviation_normal=('deviation_normal', 'mean'),\n",
    "    feature_75_quant_deviation_normal=('deviation_normal', lambda x: x.quantile(0.75))\n",
    ")"
   ]
  },
  {
   "cell_type": "code",
   "execution_count": 17,
   "metadata": {},
   "outputs": [
    {
     "data": {
      "text/html": [
       "<div>\n",
       "<style scoped>\n",
       "    .dataframe tbody tr th:only-of-type {\n",
       "        vertical-align: middle;\n",
       "    }\n",
       "\n",
       "    .dataframe tbody tr th {\n",
       "        vertical-align: top;\n",
       "    }\n",
       "\n",
       "    .dataframe thead th {\n",
       "        text-align: right;\n",
       "    }\n",
       "</style>\n",
       "<table border=\"1\" class=\"dataframe\">\n",
       "  <thead>\n",
       "    <tr style=\"text-align: right;\">\n",
       "      <th></th>\n",
       "      <th>car_id</th>\n",
       "      <th>model</th>\n",
       "      <th>car_type</th>\n",
       "      <th>fuel_type</th>\n",
       "      <th>car_rating</th>\n",
       "      <th>year_to_start</th>\n",
       "      <th>riders</th>\n",
       "      <th>year_to_work</th>\n",
       "      <th>target_reg</th>\n",
       "      <th>target_class</th>\n",
       "      <th>...</th>\n",
       "      <th>user_id</th>\n",
       "      <th>mean_user_rating</th>\n",
       "      <th>total_user_rides</th>\n",
       "      <th>total_user_accidents</th>\n",
       "      <th>mean_destroy_degree</th>\n",
       "      <th>total_work_duration</th>\n",
       "      <th>unique_workers</th>\n",
       "      <th>feature_min_max_diff</th>\n",
       "      <th>feature_mean_deviation_normal</th>\n",
       "      <th>feature_75_quant_deviation_normal</th>\n",
       "    </tr>\n",
       "  </thead>\n",
       "  <tbody>\n",
       "    <tr>\n",
       "      <th>0</th>\n",
       "      <td>y13744087j</td>\n",
       "      <td>Kia Rio X-line</td>\n",
       "      <td>economy</td>\n",
       "      <td>petrol</td>\n",
       "      <td>3.78</td>\n",
       "      <td>2015</td>\n",
       "      <td>76163</td>\n",
       "      <td>2021</td>\n",
       "      <td>108.53</td>\n",
       "      <td>another_bug</td>\n",
       "      <td>...</td>\n",
       "      <td>NaN</td>\n",
       "      <td>NaN</td>\n",
       "      <td>NaN</td>\n",
       "      <td>NaN</td>\n",
       "      <td>3.048571</td>\n",
       "      <td>933</td>\n",
       "      <td>33</td>\n",
       "      <td>9.001</td>\n",
       "      <td>-0.120391</td>\n",
       "      <td>0.00100</td>\n",
       "    </tr>\n",
       "    <tr>\n",
       "      <th>1</th>\n",
       "      <td>O41613818T</td>\n",
       "      <td>VW Polo VI</td>\n",
       "      <td>economy</td>\n",
       "      <td>petrol</td>\n",
       "      <td>3.90</td>\n",
       "      <td>2015</td>\n",
       "      <td>78218</td>\n",
       "      <td>2021</td>\n",
       "      <td>35.20</td>\n",
       "      <td>electro_bug</td>\n",
       "      <td>...</td>\n",
       "      <td>NaN</td>\n",
       "      <td>NaN</td>\n",
       "      <td>NaN</td>\n",
       "      <td>NaN</td>\n",
       "      <td>2.917143</td>\n",
       "      <td>873</td>\n",
       "      <td>34</td>\n",
       "      <td>72.761</td>\n",
       "      <td>6.050011</td>\n",
       "      <td>16.69100</td>\n",
       "    </tr>\n",
       "    <tr>\n",
       "      <th>2</th>\n",
       "      <td>d-2109686j</td>\n",
       "      <td>Renault Sandero</td>\n",
       "      <td>standart</td>\n",
       "      <td>petrol</td>\n",
       "      <td>6.30</td>\n",
       "      <td>2012</td>\n",
       "      <td>23340</td>\n",
       "      <td>2017</td>\n",
       "      <td>38.62</td>\n",
       "      <td>gear_stick</td>\n",
       "      <td>...</td>\n",
       "      <td>NaN</td>\n",
       "      <td>NaN</td>\n",
       "      <td>NaN</td>\n",
       "      <td>NaN</td>\n",
       "      <td>3.740000</td>\n",
       "      <td>915</td>\n",
       "      <td>35</td>\n",
       "      <td>16.401</td>\n",
       "      <td>-2.223954</td>\n",
       "      <td>0.00000</td>\n",
       "    </tr>\n",
       "    <tr>\n",
       "      <th>3</th>\n",
       "      <td>u29695600e</td>\n",
       "      <td>Mercedes-Benz GLC</td>\n",
       "      <td>business</td>\n",
       "      <td>petrol</td>\n",
       "      <td>4.04</td>\n",
       "      <td>2011</td>\n",
       "      <td>1263</td>\n",
       "      <td>2020</td>\n",
       "      <td>30.34</td>\n",
       "      <td>engine_fuel</td>\n",
       "      <td>...</td>\n",
       "      <td>NaN</td>\n",
       "      <td>NaN</td>\n",
       "      <td>NaN</td>\n",
       "      <td>NaN</td>\n",
       "      <td>4.085714</td>\n",
       "      <td>1007</td>\n",
       "      <td>34</td>\n",
       "      <td>61.647</td>\n",
       "      <td>14.771948</td>\n",
       "      <td>28.18550</td>\n",
       "    </tr>\n",
       "    <tr>\n",
       "      <th>4</th>\n",
       "      <td>N-8915870N</td>\n",
       "      <td>Renault Sandero</td>\n",
       "      <td>standart</td>\n",
       "      <td>petrol</td>\n",
       "      <td>4.70</td>\n",
       "      <td>2012</td>\n",
       "      <td>26428</td>\n",
       "      <td>2017</td>\n",
       "      <td>30.45</td>\n",
       "      <td>engine_fuel</td>\n",
       "      <td>...</td>\n",
       "      <td>NaN</td>\n",
       "      <td>NaN</td>\n",
       "      <td>NaN</td>\n",
       "      <td>NaN</td>\n",
       "      <td>3.880000</td>\n",
       "      <td>981</td>\n",
       "      <td>34</td>\n",
       "      <td>70.176</td>\n",
       "      <td>12.455678</td>\n",
       "      <td>30.65725</td>\n",
       "    </tr>\n",
       "  </tbody>\n",
       "</table>\n",
       "<p>5 rows × 28 columns</p>\n",
       "</div>"
      ],
      "text/plain": [
       "       car_id              model  car_type fuel_type  car_rating  \\\n",
       "0  y13744087j     Kia Rio X-line   economy    petrol        3.78   \n",
       "1  O41613818T         VW Polo VI   economy    petrol        3.90   \n",
       "2  d-2109686j    Renault Sandero  standart    petrol        6.30   \n",
       "3  u29695600e  Mercedes-Benz GLC  business    petrol        4.04   \n",
       "4  N-8915870N    Renault Sandero  standart    petrol        4.70   \n",
       "\n",
       "   year_to_start  riders  year_to_work  target_reg target_class  ...  user_id  \\\n",
       "0           2015   76163          2021      108.53  another_bug  ...      NaN   \n",
       "1           2015   78218          2021       35.20  electro_bug  ...      NaN   \n",
       "2           2012   23340          2017       38.62   gear_stick  ...      NaN   \n",
       "3           2011    1263          2020       30.34  engine_fuel  ...      NaN   \n",
       "4           2012   26428          2017       30.45  engine_fuel  ...      NaN   \n",
       "\n",
       "   mean_user_rating  total_user_rides  total_user_accidents  \\\n",
       "0               NaN               NaN                   NaN   \n",
       "1               NaN               NaN                   NaN   \n",
       "2               NaN               NaN                   NaN   \n",
       "3               NaN               NaN                   NaN   \n",
       "4               NaN               NaN                   NaN   \n",
       "\n",
       "   mean_destroy_degree  total_work_duration  unique_workers  \\\n",
       "0             3.048571                  933              33   \n",
       "1             2.917143                  873              34   \n",
       "2             3.740000                  915              35   \n",
       "3             4.085714                 1007              34   \n",
       "4             3.880000                  981              34   \n",
       "\n",
       "   feature_min_max_diff feature_mean_deviation_normal  \\\n",
       "0                 9.001                     -0.120391   \n",
       "1                72.761                      6.050011   \n",
       "2                16.401                     -2.223954   \n",
       "3                61.647                     14.771948   \n",
       "4                70.176                     12.455678   \n",
       "\n",
       "   feature_75_quant_deviation_normal  \n",
       "0                            0.00100  \n",
       "1                           16.69100  \n",
       "2                            0.00000  \n",
       "3                           28.18550  \n",
       "4                           30.65725  \n",
       "\n",
       "[5 rows x 28 columns]"
      ]
     },
     "execution_count": 17,
     "metadata": {},
     "output_type": "execute_result"
    }
   ],
   "source": [
    "df = pd.merge(df, rides_features_additional, on='car_id', how='left')\n",
    "df.head()"
   ]
  },
  {
   "cell_type": "markdown",
   "metadata": {
    "id": "Q6Fa0zupbuhw"
   },
   "source": [
    "## Задание 2. Применение методов фильтрации признаков (4 балла)\n",
    "\n",
    "<center> <img src=\"https://ucarecdn.com/d1b4bc78-fd04-44fb-bdbf-0a63355b7384/\" width=700>"
   ]
  },
  {
   "cell_type": "markdown",
   "metadata": {
    "id": "c910L9jubuhx"
   },
   "source": [
    "1. Выберите и примените любые 3 (можно и больше) метода фильтрации, которые указаны выше или в ноутбуке по фильтрации из полезных ссылок.\n",
    "2. Проинтерпретируйте результаты и сделайте выводы.\n",
    "\n",
    "\n",
    "<h4> Критерии оценивания </h4>\n",
    "    \n",
    "- Применены методы фильтрации — 1 балл за каждый метод, максимум 3 балла.\n",
    "- Сделаны выводы на основе примененных методов —1 балл.\n",
    "</div>"
   ]
  },
  {
   "cell_type": "markdown",
   "metadata": {
    "id": "9flWgKVxf9Q1"
   },
   "source": [
    "### Советы по Feature Selection"
   ]
  },
  {
   "cell_type": "markdown",
   "metadata": {
    "id": "vYr9VNS5buhw"
   },
   "source": [
    "<div class=\"alert alert-info\">\n",
    "\n",
    "<h3><center>Зачем отбирать признаки</center></h3>\n",
    "    \n",
    "**Основные причины**:\n",
    "    \n",
    "- Главная причина: с увеличением количества признаков часто падает точность предсказания модели, а некоторые модели и вовсе перестают адекватно работать. Так происходит, если в данных большое количество мусорных фичей (почти не коррелирующих с таргетом).\n",
    "\n",
    "- Если фичей очень много, то данные перестают помещаться в память и существенно увеличивают время обучения модели, особенно если мы тестируем несколько алгоритмов или ансамбль. Также важно учитывать, что платформы имеют ограничения на длительность одной сессии (в Kaggle — 12 часов) и лимиты по потребляемой памяти.\n",
    "\n",
    "- Даже если точность не снижается, есть риск, что модель опирается на шумные фичи, что снизит стабильность прогноза на приватной выборке.\n"
   ]
  },
  {
   "cell_type": "markdown",
   "metadata": {
    "id": "P4JQwUS3buhw"
   },
   "source": [
    "<b>Что удалить сразу:</b>\n",
    "    \n",
    "- константы;\n",
    "- уникальные значения (в том числе в тесте; как правило, это ID-шники по типу `car_id`).\n",
    "    \n",
    "<b>Какие методы использовать:</b>\n",
    "    \n",
    "- `Линейная корреляция`.\n",
    "- `Phik` — тоже корреляция, но на стероидах ([туториал на Medium](https://towardsdatascience.com/phik-k-get-familiar-with-the-latest-correlation-coefficient-9ba0032b37e7)).\n",
    "- `Permutation importance` (из `scikit-learn`).\n",
    "- `SHAP values` (из библиотеки `shap`).\n",
    "- `CatBoost Feature Selection` (рекурсивные методы).\n",
    "    "
   ]
  },
  {
   "cell_type": "code",
   "execution_count": 44,
   "metadata": {},
   "outputs": [],
   "source": [
    "from sklearn.model_selection import train_test_split\n",
    "from catboost import CatBoostClassifier\n",
    "from sklearn.inspection import permutation_importance\n",
    "import shap\n",
    "import phik\n",
    "from phik import resources, report"
   ]
  },
  {
   "cell_type": "code",
   "execution_count": 23,
   "metadata": {
    "id": "UT2ndUSHbuhx"
   },
   "outputs": [],
   "source": [
    "# Удаление констант и уникальных значений\n",
    "\n",
    "df = df.loc[:, (df.nunique() > 1) & (df.nunique() != len(df))]"
   ]
  },
  {
   "cell_type": "code",
   "execution_count": 24,
   "metadata": {},
   "outputs": [],
   "source": [
    "# числовые столцы для анализа корреляции\n",
    "numeric_features = df.select_dtypes(include=['float64', 'int64'])\n",
    "\n",
    "# корреляци пирсона числовыи признакоыв и target_reg\n",
    "correlation_with_target = numeric_features.corrwith(df['target_reg']).sort_values()"
   ]
  },
  {
   "cell_type": "code",
   "execution_count": 25,
   "metadata": {},
   "outputs": [
    {
     "data": {
      "text/plain": [
       "mean_destroy_degree                 -0.441411\n",
       "total_work_duration                 -0.123805\n",
       "mean_speed_avg                      -0.112508\n",
       "mean_ride_duration                  -0.036293\n",
       "mean_rating                         -0.017549\n",
       "unique_workers                      -0.005835\n",
       "riders                               0.003259\n",
       "year_to_start                        0.006390\n",
       "total_refueling                      0.011362\n",
       "feature_min_max_diff                 0.015546\n",
       "car_rating                           0.024515\n",
       "year_to_work                         0.034604\n",
       "min_rating                           0.038629\n",
       "feature_75_quant_deviation_normal    0.085651\n",
       "feature_mean_deviation_normal        0.134768\n",
       "max_speed                            0.420563\n",
       "target_reg                           1.000000\n",
       "dtype: float64"
      ]
     },
     "execution_count": 25,
     "metadata": {},
     "output_type": "execute_result"
    }
   ],
   "source": [
    "correlation_with_target"
   ]
  },
  {
   "cell_type": "code",
   "execution_count": 26,
   "metadata": {},
   "outputs": [],
   "source": [
    "X = df.drop(['target_class', 'target_reg'], axis=1)\n",
    "X = pd.get_dummies(X, drop_first=True)\n",
    "y = df['target_class']"
   ]
  },
  {
   "cell_type": "code",
   "execution_count": 29,
   "metadata": {},
   "outputs": [],
   "source": [
    "X_train, X_test, y_train, y_test = train_test_split(X, y, test_size=0.2, random_state=42)"
   ]
  },
  {
   "cell_type": "code",
   "execution_count": 30,
   "metadata": {},
   "outputs": [
    {
     "data": {
      "text/plain": [
       "<catboost.core.CatBoostClassifier at 0x2ba18bbc2c0>"
      ]
     },
     "execution_count": 30,
     "metadata": {},
     "output_type": "execute_result"
    }
   ],
   "source": [
    "model = CatBoostClassifier(random_seed=42, verbose=0)\n",
    "model.fit(X_train, y_train)"
   ]
  },
  {
   "cell_type": "code",
   "execution_count": 31,
   "metadata": {},
   "outputs": [],
   "source": [
    "perm_importance = permutation_importance(model, X_test, y_test, n_repeats=10, random_state=42)"
   ]
  },
  {
   "cell_type": "code",
   "execution_count": 32,
   "metadata": {},
   "outputs": [],
   "source": [
    "feature_importances = pd.DataFrame(perm_importance.importances_mean, index=X.columns, columns=['Importance']).sort_values(by='Importance', ascending=False)"
   ]
  },
  {
   "cell_type": "code",
   "execution_count": 33,
   "metadata": {},
   "outputs": [
    {
     "data": {
      "text/html": [
       "<div>\n",
       "<style scoped>\n",
       "    .dataframe tbody tr th:only-of-type {\n",
       "        vertical-align: middle;\n",
       "    }\n",
       "\n",
       "    .dataframe tbody tr th {\n",
       "        vertical-align: top;\n",
       "    }\n",
       "\n",
       "    .dataframe thead th {\n",
       "        text-align: right;\n",
       "    }\n",
       "</style>\n",
       "<table border=\"1\" class=\"dataframe\">\n",
       "  <thead>\n",
       "    <tr style=\"text-align: right;\">\n",
       "      <th></th>\n",
       "      <th>Importance</th>\n",
       "    </tr>\n",
       "  </thead>\n",
       "  <tbody>\n",
       "    <tr>\n",
       "      <th>max_speed</th>\n",
       "      <td>0.414103</td>\n",
       "    </tr>\n",
       "    <tr>\n",
       "      <th>mean_speed_avg</th>\n",
       "      <td>0.177350</td>\n",
       "    </tr>\n",
       "    <tr>\n",
       "      <th>mean_rating</th>\n",
       "      <td>0.175000</td>\n",
       "    </tr>\n",
       "    <tr>\n",
       "      <th>min_rating</th>\n",
       "      <td>0.129915</td>\n",
       "    </tr>\n",
       "    <tr>\n",
       "      <th>mean_destroy_degree</th>\n",
       "      <td>0.112393</td>\n",
       "    </tr>\n",
       "    <tr>\n",
       "      <th>feature_mean_deviation_normal</th>\n",
       "      <td>0.027991</td>\n",
       "    </tr>\n",
       "    <tr>\n",
       "      <th>feature_min_max_diff</th>\n",
       "      <td>0.009615</td>\n",
       "    </tr>\n",
       "    <tr>\n",
       "      <th>total_work_duration</th>\n",
       "      <td>0.007479</td>\n",
       "    </tr>\n",
       "    <tr>\n",
       "      <th>feature_75_quant_deviation_normal</th>\n",
       "      <td>0.007479</td>\n",
       "    </tr>\n",
       "    <tr>\n",
       "      <th>car_rating</th>\n",
       "      <td>0.004915</td>\n",
       "    </tr>\n",
       "  </tbody>\n",
       "</table>\n",
       "</div>"
      ],
      "text/plain": [
       "                                   Importance\n",
       "max_speed                            0.414103\n",
       "mean_speed_avg                       0.177350\n",
       "mean_rating                          0.175000\n",
       "min_rating                           0.129915\n",
       "mean_destroy_degree                  0.112393\n",
       "feature_mean_deviation_normal        0.027991\n",
       "feature_min_max_diff                 0.009615\n",
       "total_work_duration                  0.007479\n",
       "feature_75_quant_deviation_normal    0.007479\n",
       "car_rating                           0.004915"
      ]
     },
     "execution_count": 33,
     "metadata": {},
     "output_type": "execute_result"
    }
   ],
   "source": [
    "feature_importances.head(10)"
   ]
  },
  {
   "cell_type": "code",
   "execution_count": 41,
   "metadata": {},
   "outputs": [
    {
     "data": {
      "image/png": "[encoded data removed]",
      "text/plain": [
       "<Figure size 1150x660 with 7 Axes>"
      ]
     },
     "metadata": {},
     "output_type": "display_data"
    }
   ],
   "source": [
    "# test SHAP\n",
    "\n",
    "explainer = shap.TreeExplainer(model)\n",
    "shap_values = explainer.shap_values(X_test)\n",
    "\n",
    "# Визуализация SHAP значений\n",
    "shap.summary_plot(shap_values, X_test)"
   ]
  },
  {
   "cell_type": "code",
   "execution_count": 45,
   "metadata": {},
   "outputs": [
    {
     "name": "stdout",
     "output_type": "stream",
     "text": [
      "interval columns not set, guessing: ['car_rating', 'year_to_start', 'riders', 'year_to_work', 'target_reg', 'min_rating', 'mean_rating', 'max_speed', 'mean_ride_duration', 'mean_speed_avg', 'total_refueling', 'mean_destroy_degree', 'total_work_duration', 'unique_workers', 'feature_min_max_diff', 'feature_mean_deviation_normal', 'feature_75_quant_deviation_normal']\n"
     ]
    }
   ],
   "source": [
    "# test Phik\n",
    "\n",
    "phik_overview = df.phik_matrix()"
   ]
  },
  {
   "cell_type": "code",
   "execution_count": 48,
   "metadata": {},
   "outputs": [
    {
     "data": {
      "image/png": "[encoded data removed]",
      "text/plain": [
       "<Figure size 2800x1300 with 1 Axes>"
      ]
     },
     "metadata": {},
     "output_type": "display_data"
    }
   ],
   "source": [
    "plt.figure(figsize=(28, 13))\n",
    "phik_overview_heatmap = phik_overview['target_class'].sort_values(ascending=False).plot(kind='bar')\n",
    "plt.title('Phik correlation with target_class')\n",
    "plt.ylabel('Phik correlation')\n",
    "plt.show()"
   ]
  },
  {
   "cell_type": "markdown",
   "metadata": {},
   "source": [
    "# Выводы"
   ]
  },
  {
   "cell_type": "markdown",
   "metadata": {},
   "source": [
    "`max_speed`: самое сильное влияние на предсказанияч. Высокме значения признака, имеют прямую влияение на целевую переменную\n",
    "\n",
    "`mean_rating` и `mean_ride_duration`: также оказывают заметное влияние на модель. Вариации mean_rating могут как увеличивать, так и уменьшать предсказанное значение, в то время как mean_ride_duration влияет в положительную сторону.\n",
    "\n",
    "`year_to_start`, `mean_speed_avg`, `min_rating`, и `car_rating`: влияние присутствует, но не так выражено, как у `max_speed`. Кроме того, распределение на графике SHAP относительно нулевой линии указывает на вариативностб влияния в зависимости от конкретного значения признака."
   ]
  },
  {
   "cell_type": "markdown",
   "metadata": {
    "id": "iSjuXdlcbuhx"
   },
   "source": [
    "# Домашнее задание 2. Прогноз времени и вида поломки машин. Настройка ML-модели"
   ]
  },
  {
   "cell_type": "code",
   "execution_count": null,
   "metadata": {},
   "outputs": [],
   "source": []
  },
  {
   "cell_type": "markdown",
   "metadata": {
    "id": "2qoVlxvUbuhx"
   },
   "source": [
    "<div class=\"alert alert-info\">\n",
    "\n",
    "**Цель блока** — составить тренировочную и валидационную выборки, произвести обучение модели `CatBoostClassifier` на тренировочной части и оценить качество на валидационной."
   ]
  },
  {
   "cell_type": "markdown",
   "metadata": {
    "id": "OfqcanLLbuhx"
   },
   "source": [
    "##Обучение первой модели (5 баллов)\n",
    "\n",
    "1.   Новый пункт\n",
    "2.   Новый пункт\n",
    "\n"
   ]
  },
  {
   "cell_type": "markdown",
   "metadata": {
    "id": "ZXhXYJt6buhx"
   },
   "source": [
    "1. Классифицируйте признаки на типы (категориальные, числовые, таргеты).\n",
    "\n",
    "2. Выделите в `X` только признаки, а в `Y` — таргет (для задачи классификации).\n",
    "\n",
    "3. Сделайте разделение данных на *обучающую* и *валидационную* выборки (не забывайте про воспроизводимость результатов).\n",
    "\n",
    "4. Создайте и обучите `CatBoostClassifier` модель (настраивать гиперпараметры сейчас не обязательно).\n",
    "\n",
    "5. Проведите оценку вашей модели, используя метрику `accuracy`.\n",
    "\n",
    "\n",
    "<h4> Критерии оценивания </h4>\n",
    "    \n",
    "- По 1 баллу за каждый корректно выполненный пункт.\n",
    "\n",
    "</div>"
   ]
  },
  {
   "cell_type": "code",
   "execution_count": null,
   "metadata": {
    "id": "klrOFoVpbuhx"
   },
   "outputs": [],
   "source": [
    "from catboost import CatBoostClassifier\n",
    "from sklearn.model_selection import train_test_split\n",
    "from sklearn.metrics import accuracy_score"
   ]
  },
  {
   "cell_type": "code",
   "execution_count": null,
   "metadata": {
    "id": "lqwlTU2gbuhz"
   },
   "outputs": [],
   "source": [
    "features2drop = [...] # то, что надо выбросить\n",
    "targets = [...] # таргеты\n",
    "cat_features = [...] # категориальные признаки\n",
    "\n",
    "num_features = [...] # числовые признаки\n",
    "\n",
    "print('Категориальные признаки:', len(cat_features), cat_features)\n",
    "print('Числовые признаки:', len(num_features), num_features)\n",
    "print('Целевые переменные', targets)"
   ]
  },
  {
   "cell_type": "code",
   "execution_count": null,
   "metadata": {
    "id": "tGK5sgaQbuhz"
   },
   "outputs": [],
   "source": [
    "# YOUR CODE HERE"
   ]
  },
  {
   "cell_type": "markdown",
   "metadata": {
    "id": "pWAOjGCIbuhz"
   },
   "source": [
    "# Дополнительное задание. Визуализация прогнозов, ошибок модели и важности признаков"
   ]
  },
  {
   "cell_type": "markdown",
   "metadata": {
    "id": "oCvZU_ksbuhz"
   },
   "source": [
    "<div class=\"alert alert-info\">\n",
    "\n",
    "**Цель блока** — визуализировать результаты прогнозирования, ошибки модели и важность признаков для лучшего понимания и анализа модели."
   ]
  },
  {
   "cell_type": "markdown",
   "metadata": {
    "id": "onsptUygbuhz"
   },
   "source": [
    "## Визуализация (5 баллов)"
   ]
  },
  {
   "cell_type": "markdown",
   "metadata": {
    "id": "t3gAT3YHbuhz"
   },
   "source": [
    "   \n",
    "1. Визуализируйте важность признаков встроенным методом в `CatBoost`  (помните, что не стоит сильно доверять этому рейтингу важности, т. к. для сильно скоррелированных признаков важность делится пополам — оба признака могут улететь вниз).\n",
    "\n",
    "2. Постройте `waterfall_plot` из библиотеки `SHAP` (подробнее во втором ноутбуке из полезных ссылок ниже).\n",
    "    \n",
    "3. Постройте `classification_report` из библиотеки `scikit-learn`.\n",
    "\n",
    "4. Постройте и визуализируйте матрицу смежности (`confusion_matrix`), посмотрите, в каких классах модель больше всего ошибается.\n",
    "    \n",
    "5. Для каждого графика/примененного метода проинтерпретируйте результаты и сделайте выводы.\n",
    "\n",
    "\n",
    "<h4> Критерии оценивания </h4>\n",
    "    \n",
    "- По 1 баллу за каждый корректно выполненный пункт.\n",
    "    \n",
    "</div>\n",
    "\n",
    "<div class=\"alert alert-success\">\n",
    "\n",
    "Визуализация может помочь даже после того, как мы **уже обучили** какую-нибудь модель. Например:\n",
    "\n",
    "- Понять, что мешает модели или чего не хватает, чтобы не допускать ошибки.\n",
    "- Сделать выводы, как можно улучшить точность в последующих экспериментах.\n",
    "- Визуализировать ошибки модели.\n",
    "- Отсеять лишние признаки.\n",
    "- Найти идеи для новых признаков.\n",
    "- Все зависит от типа ваших данных.\n",
    "\n",
    "<h3> Полезные источники </h3>\n",
    "    \n",
    "- Занятие про визуализацию и Seaborn.\n",
    "- Занятие про продвинутую визуализацию и анализ ошибок модели.\n",
    "\n",
    "</div>    "
   ]
  },
  {
   "cell_type": "code",
   "execution_count": null,
   "metadata": {
    "id": "EYvkiOcrbuh0"
   },
   "outputs": [],
   "source": [
    "# YOUR CODE HERE"
   ]
  },
  {
   "cell_type": "markdown",
   "metadata": {
    "id": "pL8evJIMbuh0"
   },
   "source": [
    "# Домашнее задание 3. Оптимизация. Тюнинг гиперпараметров с помощью `Optuna`"
   ]
  },
  {
   "cell_type": "markdown",
   "metadata": {
    "id": "ZmanV8V8buh0"
   },
   "source": [
    "<div class=\"alert alert-info\">\n",
    "\n",
    "**Цель блока** — улучшить качество предсказания, произведя подбор гиперпараметров для модели с помощью `Optuna`."
   ]
  },
  {
   "cell_type": "markdown",
   "metadata": {
    "id": "qEbxkZf8buh1"
   },
   "source": [
    "## Подбор гиперпараметров (3 балла)"
   ]
  },
  {
   "cell_type": "markdown",
   "metadata": {
    "id": "XogayH7Hbuh1"
   },
   "source": [
    "1. Напишите `objective` функцию и запустите `Optuna`.\n",
    "2. Подберите гиперпараметры для `CatBoostClassifier` (минимум 3).\n",
    "3. Обучите модель с новыми гиперпараметрами, сравните качество и сделайте выводы.\n",
    "\n",
    "    \n",
    "<h4> Критерии оценивания </h4>\n",
    "    \n",
    "- 1 балл за каждый корректно выполненный пункт.\n",
    "    \n",
    "</div>"
   ]
  },
  {
   "cell_type": "code",
   "execution_count": null,
   "metadata": {
    "id": "UrNbom9qbuh1"
   },
   "outputs": [],
   "source": [
    "# YOUR CODE HERE"
   ]
  },
  {
   "cell_type": "markdown",
   "metadata": {
    "id": "ayIdErsgjayi"
   },
   "source": [
    "### Общая информация по `Optuna`"
   ]
  },
  {
   "cell_type": "markdown",
   "metadata": {
    "id": "a6Y35ioqbuh0",
    "tags": []
   },
   "source": [
    "#### Ключевые особенности <code>Optuna</code>\n",
    "\n"
   ]
  },
  {
   "cell_type": "markdown",
   "metadata": {
    "id": "EFwQ3_NStdFY"
   },
   "source": [
    "- Легковесность и универсальность — можно подбирать оптимальные параметры под любые функции и метрики.\n",
    "- SOTA-алгоритмы, адаптированные для поиска гиперпараметров.\n",
    "- Параллелизация и различные методы прунинга.\n",
    "- Встроенная визуализация.\n",
    "- Интеграция со множеством популярных библиотек (бустинги, sklearn, PyTorch, W&B и другие).\n",
    "\n",
    "Разберем Optuna по частям, чтобы понять, как ее использовать."
   ]
  },
  {
   "cell_type": "markdown",
   "metadata": {
    "id": "GIT2J4INtxaf"
   },
   "source": [
    "#### <code>Study</code>: оптимизация, базирующаяся на <code>Objective</code> функции"
   ]
  },
  {
   "cell_type": "markdown",
   "metadata": {
    "id": "wqPh6XVybuh0"
   },
   "source": [
    "\n",
    "\n",
    "В `Objective`-функцию нужно написать код подсчета метрики, которую возвращаем. `Objective` вызывается Optuna много раз для подбора лучших параметров.\n",
    "```python\n",
    "def objective(trial, ...):\n",
    "    # calculate score...\n",
    "    return score\n",
    "```\n",
    "\n",
    "<h4> <code>Trial</code> — одно выполнение <code>Objective</code>-функции</h4>\n",
    "\n",
    "В `trial`-объекте мы передаем параметры для «перебора», используя для каждого типа свой метод. Например:\n",
    "\n",
    "```python\n",
    "# метод `suggest_float` показывает, что перебираем `float` значения, от 0 и до 1.5 границы\n",
    "param = trial.suggest_float('param', 0, 1.5)\n",
    "\n",
    "# Категориальное значение\n",
    "loss_function = trial.suggest_categorical('loss', ['Logloss', 'CrossEntropy'])\n",
    "\n",
    "# Целочисленное значение\n",
    "depth = trial.suggest_int('depth', 5, 8)\n",
    "\n",
    "# Равномерное распределение\n",
    "learning_rate = trial.suggest_uniform('learning_rate', 0.0, 1.0)\n",
    "```"
   ]
  },
  {
   "cell_type": "markdown",
   "metadata": {
    "id": "4huC_vW7uI4o"
   },
   "source": [
    "#### `Study` parameters"
   ]
  },
  {
   "cell_type": "markdown",
   "metadata": {
    "id": "Cq94BjhWbuh0"
   },
   "source": [
    "Инициализируем объект `study`, который начнет перебор и сохранит в себе историю результатов.\n",
    "Если мы стараемся увеличить метрику, а не уменьшить ошибку, то используем `create_study(direction='maximize')`.\n",
    "```python\n",
    "study = optuna.create_study()\n",
    "study.optimize(objective, n_trials=10)\n",
    "```"
   ]
  },
  {
   "cell_type": "markdown",
   "metadata": {
    "id": "x9AvfTv4buh0"
   },
   "source": [
    "<div class=\"alert alert-info\">\n",
    "    \n",
    "В [`Optuna`](https://optuna.readthedocs.io/en/stable/index.html) реализовано несколько методов (`sampler`) подбора параметров (в том числе классические):\n",
    "* `GridSampler`\n",
    "* `RandomSampler`\n",
    "* `Tree-Structed Parzen Estimator` (`TPESampler` — самый популярный, дефолтный)\n",
    "* `BruteForceSampler`\n",
    "* [Другие 4 метода](https://optuna.readthedocs.io/en/stable/reference/samplers/index.html#module-optuna.samplers) (можно написать собственный семплер)"
   ]
  },
  {
   "cell_type": "markdown",
   "metadata": {
    "id": "3g4-aEHabuh0",
    "tags": []
   },
   "source": [
    "### Советы по перебору параметров"
   ]
  },
  {
   "cell_type": "markdown",
   "metadata": {
    "id": "g3b8cs4Mt7pq"
   },
   "source": [
    "- Иметь понимание важности параметров.\n",
    "- Число `iterations` лучше взять с запасом и зафиксировать, при этом ограничив через `early_stopping_rounds`.\n",
    "- Подсмотреть или чувствовать диапазоны и шаг значений.\n",
    "- Исключить то, что перебирать не нужно (`random_seed` , `eval_metric`, `thread_count` и прочее).\n",
    "- Используйте информацию с прошлых попыток."
   ]
  },
  {
   "cell_type": "markdown",
   "metadata": {
    "id": "dXv8NCp_buh1"
   },
   "source": [
    "# Домашнее задание 4. Блендинг"
   ]
  },
  {
   "cell_type": "markdown",
   "metadata": {
    "id": "8-bhQKWGbuh1"
   },
   "source": [
    "<div class=\"alert alert-info\">\n",
    "\n",
    "**Цель блока** — улучшить качество предсказания, объединив несколько моделей вместе методом блендинга."
   ]
  },
  {
   "cell_type": "markdown",
   "metadata": {
    "id": "ZtI-eK3xbuh1"
   },
   "source": [
    "## Задание 6. Блендинг (10 баллов)"
   ]
  },
  {
   "cell_type": "markdown",
   "metadata": {
    "id": "8v9Onoo9buh1"
   },
   "source": [
    "1. Построить и обучить модели:\n",
    "    - `CatBoostClassifier`,\n",
    "    - `LightGBMClassifier (goss)`,\n",
    "    - `XGBoostClassifier (dart)`,\n",
    "    - `RandomForestClassifier`.\n",
    "2. Сделать предсказания каждой моделью, оценить качество.\n",
    "3. Реализовать блендинг двумя способами, оценить качество и сравнить с предыдущим пунктом:\n",
    "    - `Hard Voting` —  метод, при котором делаем голосование всех моделей и выбираем самый популярный класс.\n",
    "    - `Soft Voting` —  метод, при котором мы складываем вероятности предсказания всех моделей по каждому классу и потом выбираем самый класс с максимальной суммой.\n",
    "    \n",
    "<h4> Критерии оценивания </h4>\n",
    "    \n",
    "- Обучены 4 модели — 1 балл за каждую обученную модель, всего 4 балла.\n",
    "- Для модели проведен подбор гиперпараметров — 0,5 балла за каждый параметр, всего 2 балла.\n",
    "- Сделаны предсказания каждой модели и оценено качество — 1 балл.\n",
    "- Реализован `Hard Voting` — 1 балл.\n",
    "- Реализован `Soft Voting` — 1 балл.\n",
    "- Сделаны выводы — 1 балл.\n",
    "    \n",
    "</div>"
   ]
  },
  {
   "cell_type": "code",
   "execution_count": null,
   "metadata": {
    "id": "Mfi_sxnjbuh2"
   },
   "outputs": [],
   "source": [
    "# YOUR CODE HERE"
   ]
  },
  {
   "cell_type": "markdown",
   "metadata": {
    "id": "O2utYsm3mShl"
   },
   "source": [
    "### Общая информация о блендинге"
   ]
  },
  {
   "cell_type": "markdown",
   "metadata": {
    "id": "-JNyyolfbuh1"
   },
   "source": [
    "**Основная идея** — взять от каждого алгоритма лучшее и совместить несколько разных ML-моделей в одну.\n",
    "\n",
    "Что это дает:\n",
    "- Увеличивается обобщающая способность финальной модели и качество улучшается.\n",
    "- Модель становится более стабильной, что позволяет не слететь на приватном лидерборде.\n",
    "\n",
    "Особенно хорошо накидывает блендинг, если смешиваемые модели имеют разную природу — например, нейронные сети, kNN и решающие деревья. Они выучивают разные зависимости и хорошо дополняют друг друга.\n",
    "\n",
    "</div>"
   ]
  },
  {
   "cell_type": "markdown",
   "metadata": {
    "id": "C5w0RwnYbuh3"
   },
   "source": [
    "# <center id=\"part6\"> Отправка финального решения на лидерборд на Kaggle"
   ]
  },
  {
   "cell_type": "markdown",
   "metadata": {
    "id": "wpt2Bdimbuh3"
   },
   "source": [
    "<div class=\"alert alert-info\">\n",
    "\n",
    "**Цель блока** — сделать предсказание с помощью блендинга для тестовой части датасета, отправить результат [в соревнование на Kaggle](https://www.kaggle.com/competitions/competative-data-science-course-by-data-feeling/overview)."
   ]
  },
  {
   "cell_type": "markdown",
   "metadata": {
    "id": "gfYqF37Cbuh3"
   },
   "source": [
    "## Задание 8. Предсказание на тестовом датасете и отправка на Kaggle"
   ]
  },
  {
   "cell_type": "markdown",
   "metadata": {
    "id": "m_ExuGjabuh3"
   },
   "source": [
    "1. Сделать предобработку для тестового датасета, присоединить к нему информацию из других датасетов и добавить признаки, которые генерировали для тренировочного датасета.\n",
    "2. Сделать предсказания каждой моделью, которую хотите включить в ансамбль, но минимум их должно быть 3.\n",
    "3. Сделать блендинг с помощью `Hard Voting` или `Soft Voting` на ваш выбор.\n",
    "4. Сохранить результат предсказания в `csv` файл и отправить решение на Kaggle.\n",
    "    \n",
    "<h4> Критерии оценивания </h4>\n",
    "    \n",
    "- 0 баллов за задание, если итоговый скор на лидерборде меньше чем `0.9`.\n",
    "- 1 балл за каждый выполненный пункт.\n",
    "\n",
    "</div>"
   ]
  },
  {
   "cell_type": "code",
   "execution_count": null,
   "metadata": {
    "id": "Cnp6usAybuh4"
   },
   "outputs": [],
   "source": [
    "car_test = pd.read_csv('https://raw.githubusercontent.com/a-milenkin/Competitive_Data_Science/main/data/car_test.csv')\n",
    "car_test.head(3)"
   ]
  },
  {
   "cell_type": "code",
   "execution_count": null,
   "metadata": {
    "id": "ZEZhf8gabuh4"
   },
   "outputs": [],
   "source": [
    "# YOUR CODE HERE"
   ]
  },
  {
   "cell_type": "markdown",
   "metadata": {
    "id": "cUuphISJbuh4"
   },
   "source": [
    "### Советы по отправке кода на Kaggle\n"
   ]
  },
  {
   "cell_type": "markdown",
   "metadata": {
    "id": "ZAQLSpKWu4aI"
   },
   "source": [
    "\n",
    "Если пишете код на `Kaggle`, то для отправки решения:\n",
    "\n",
    "1. Нажать Save Version.\n",
    "2. Проверить, что в Advanced Settings выбрано «Всегда сохранять результаты ноутбука».\n",
    "3. Выбрать тип сохранения Save & Run All (Commit).\n",
    "4. Нажать кнопку Save."
   ]
  }
 ],
 "metadata": {
  "colab": {
   "provenance": []
  },
  "kernelspec": {
   "display_name": "Python 3 (ipykernel)",
   "language": "python",
   "name": "python3"
  },
  "language_info": {
   "codemirror_mode": {
    "name": "ipython",
    "version": 3
   },
   "file_extension": ".py",
   "mimetype": "text/x-python",
   "name": "python",
   "nbconvert_exporter": "python",
   "pygments_lexer": "ipython3",
   "version": "3.12.0"
  }
 },
 "nbformat": 4,
 "nbformat_minor": 4
}
